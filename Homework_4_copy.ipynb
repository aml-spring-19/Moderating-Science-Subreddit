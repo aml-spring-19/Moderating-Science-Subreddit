{
 "cells": [
  {
   "cell_type": "markdown",
   "metadata": {},
   "source": [
    "# Homework 4"
   ]
  },
  {
   "cell_type": "code",
   "execution_count": 1,
   "metadata": {
    "collapsed": true
   },
   "outputs": [],
   "source": [
    "import pandas as pd\n",
    "import numpy as np\n",
    "import warnings\n",
    "import matplotlib.pyplot as plt\n",
    "from sklearn.feature_extraction.text import CountVectorizer\n",
    "from sklearn.linear_model import LogisticRegressionCV\n",
    "from sklearn.metrics import precision_recall_curve\n",
    "from sklearn.metrics import roc_curve\n",
    "from sklearn.metrics import roc_auc_score\n",
    "import re"
   ]
  },
  {
   "cell_type": "markdown",
   "metadata": {},
   "source": [
    "## Task 0 Loading the data"
   ]
  },
  {
   "cell_type": "markdown",
   "metadata": {},
   "source": [
    "We load the data, using an appropriate encoding - after error-and-trial:"
   ]
  },
  {
   "cell_type": "code",
   "execution_count": 277,
   "metadata": {
    "collapsed": true
   },
   "outputs": [],
   "source": [
    "train = pd.read_csv(\"data/reddit_200k_train.csv\", encoding=\"ISO-8859-1\", usecols=[\"body\", \"REMOVED\"])\n",
    "test = pd.read_csv(\"data/reddit_200k_test.csv\", encoding=\"ISO-8859-1\", usecols=[\"body\", \"REMOVED\"])"
   ]
  },
  {
   "cell_type": "markdown",
   "metadata": {},
   "source": [
    "We peek at our train data:"
   ]
  },
  {
   "cell_type": "code",
   "execution_count": 278,
   "metadata": {},
   "outputs": [
    {
     "data": {
      "text/html": [
       "<div>\n",
       "<style scoped>\n",
       "    .dataframe tbody tr th:only-of-type {\n",
       "        vertical-align: middle;\n",
       "    }\n",
       "\n",
       "    .dataframe tbody tr th {\n",
       "        vertical-align: top;\n",
       "    }\n",
       "\n",
       "    .dataframe thead th {\n",
       "        text-align: right;\n",
       "    }\n",
       "</style>\n",
       "<table border=\"1\" class=\"dataframe\">\n",
       "  <thead>\n",
       "    <tr style=\"text-align: right;\">\n",
       "      <th></th>\n",
       "      <th>body</th>\n",
       "      <th>REMOVED</th>\n",
       "    </tr>\n",
       "  </thead>\n",
       "  <tbody>\n",
       "    <tr>\n",
       "      <th>0</th>\n",
       "      <td>I've always been taught it emerged from the ea...</td>\n",
       "      <td>False</td>\n",
       "    </tr>\n",
       "    <tr>\n",
       "      <th>1</th>\n",
       "      <td>As an ECE, my first feeling as \"HEY THAT'S NOT...</td>\n",
       "      <td>True</td>\n",
       "    </tr>\n",
       "    <tr>\n",
       "      <th>2</th>\n",
       "      <td>Monday: Drug companies stock dives on good new...</td>\n",
       "      <td>True</td>\n",
       "    </tr>\n",
       "    <tr>\n",
       "      <th>3</th>\n",
       "      <td>i learned that all hybrids are unfertile i won...</td>\n",
       "      <td>False</td>\n",
       "    </tr>\n",
       "    <tr>\n",
       "      <th>4</th>\n",
       "      <td>Well i was wanting to get wasted tonight.  Not...</td>\n",
       "      <td>False</td>\n",
       "    </tr>\n",
       "  </tbody>\n",
       "</table>\n",
       "</div>"
      ],
      "text/plain": [
       "                                                body  REMOVED\n",
       "0  I've always been taught it emerged from the ea...    False\n",
       "1  As an ECE, my first feeling as \"HEY THAT'S NOT...     True\n",
       "2  Monday: Drug companies stock dives on good new...     True\n",
       "3  i learned that all hybrids are unfertile i won...    False\n",
       "4  Well i was wanting to get wasted tonight.  Not...    False"
      ]
     },
     "execution_count": 278,
     "metadata": {},
     "output_type": "execute_result"
    }
   ],
   "source": [
    "train.head()"
   ]
  },
  {
   "cell_type": "markdown",
   "metadata": {},
   "source": [
    "How many instances do we have?"
   ]
  },
  {
   "cell_type": "code",
   "execution_count": 279,
   "metadata": {},
   "outputs": [
    {
     "data": {
      "text/plain": [
       "(167529, 2)"
      ]
     },
     "execution_count": 279,
     "metadata": {},
     "output_type": "execute_result"
    }
   ],
   "source": [
    "train.shape"
   ]
  },
  {
   "cell_type": "markdown",
   "metadata": {},
   "source": [
    "#### Evaluation metric:"
   ]
  },
  {
   "cell_type": "markdown",
   "metadata": {},
   "source": [
    "Let us see the proportion of each class in the training data:"
   ]
  },
  {
   "cell_type": "code",
   "execution_count": 280,
   "metadata": {},
   "outputs": [
    {
     "name": "stdout",
     "output_type": "stream",
     "text": [
      "There are 64738 of the `True` class.\n",
      "There are 102791 of the `False` class.\n"
     ]
    }
   ],
   "source": [
    "target_counts = np.bincount(train['REMOVED'])\n",
    "print(\"There are {:d} of the `True` class.\".format(target_counts[1]))\n",
    "print(\"There are {:d} of the `False` class.\".format(target_counts[0]))"
   ]
  },
  {
   "cell_type": "markdown",
   "metadata": {},
   "source": [
    "We have a bit of an imbalance problem here, so we'll choose to evaluate our algorithms using the **ROC AUC**, which should give insight on the performance of our models without being too misleading with regard to the class imbalance."
   ]
  },
  {
   "cell_type": "markdown",
   "metadata": {},
   "source": [
    "## Task 1 Bag of Words and simple Features"
   ]
  },
  {
   "cell_type": "markdown",
   "metadata": {},
   "source": [
    "### 1.1 Create a baseline model using a bag-of-words approach and a linear model."
   ]
  },
  {
   "cell_type": "code",
   "execution_count": 281,
   "metadata": {
    "collapsed": true
   },
   "outputs": [],
   "source": [
    "from sklearn.feature_extraction.text import CountVectorizer"
   ]
  },
  {
   "cell_type": "markdown",
   "metadata": {},
   "source": [
    "We instantiate the BoW model with default parameters (the token pattern excluding one letter words, no limitation on features extracted, no minimum requirements on the number of documents a word appears in, and no filter on stop words):"
   ]
  },
  {
   "cell_type": "code",
   "execution_count": 282,
   "metadata": {
    "collapsed": true
   },
   "outputs": [],
   "source": [
    "vect = CountVectorizer()"
   ]
  },
  {
   "cell_type": "markdown",
   "metadata": {},
   "source": [
    "We fit the model to fetch the vocabulary and use it to transform our data to a BoW:"
   ]
  },
  {
   "cell_type": "code",
   "execution_count": 283,
   "metadata": {
    "collapsed": true
   },
   "outputs": [],
   "source": [
    "train_bag = vect.fit_transform(train['body'])"
   ]
  },
  {
   "cell_type": "code",
   "execution_count": 284,
   "metadata": {},
   "outputs": [
    {
     "data": {
      "text/plain": [
       "<167529x113804 sparse matrix of type '<class 'numpy.int64'>'\n",
       "\twith 5016678 stored elements in Compressed Sparse Row format>"
      ]
     },
     "execution_count": 284,
     "metadata": {},
     "output_type": "execute_result"
    }
   ],
   "source": [
    "train_bag"
   ]
  },
  {
   "cell_type": "markdown",
   "metadata": {},
   "source": [
    "How many different type of tokens were created?"
   ]
  },
  {
   "cell_type": "code",
   "execution_count": 285,
   "metadata": {},
   "outputs": [
    {
     "data": {
      "text/plain": [
       "113804"
      ]
     },
     "execution_count": 285,
     "metadata": {},
     "output_type": "execute_result"
    }
   ],
   "source": [
    "len(vect.vocabulary_)"
   ]
  },
  {
   "cell_type": "markdown",
   "metadata": {},
   "source": [
    "We look at a few samples of the vocabulary:"
   ]
  },
  {
   "cell_type": "code",
   "execution_count": 286,
   "metadata": {},
   "outputs": [
    {
     "data": {
      "text/plain": [
       "['00',\n",
       " '663',\n",
       " 'babysitter',\n",
       " 'compassing',\n",
       " 'eggsâ',\n",
       " 'greenaway',\n",
       " 'kajillion',\n",
       " 'mosanto',\n",
       " 'phylogenetic',\n",
       " 'russkies',\n",
       " 'surrogacy',\n",
       " 'warned']"
      ]
     },
     "execution_count": 286,
     "metadata": {},
     "output_type": "execute_result"
    }
   ],
   "source": [
    "vect.get_feature_names()[::10000]"
   ]
  },
  {
   "cell_type": "markdown",
   "metadata": {},
   "source": [
    "We now fit a - AUC-driven, grid-searched - linear model (logistic regression with L2 penalty) on top of this BoW representation:"
   ]
  },
  {
   "cell_type": "code",
   "execution_count": 287,
   "metadata": {
    "collapsed": true
   },
   "outputs": [],
   "source": [
    "from sklearn.linear_model import LogisticRegressionCV"
   ]
  },
  {
   "cell_type": "code",
   "execution_count": 288,
   "metadata": {
    "collapsed": true
   },
   "outputs": [],
   "source": [
    "baseline = LogisticRegressionCV(scoring='roc_auc', random_state=20190409)"
   ]
  },
  {
   "cell_type": "code",
   "execution_count": 289,
   "metadata": {
    "collapsed": true
   },
   "outputs": [],
   "source": [
    "# to avoid convergence warnings popping up\n",
    "with warnings.catch_warnings():\n",
    "    warnings.simplefilter(\"ignore\")\n",
    "    baseline.fit(train_bag, train['REMOVED'])"
   ]
  },
  {
   "cell_type": "markdown",
   "metadata": {},
   "source": [
    "We retrieve the cross-validation auc for the best model:"
   ]
  },
  {
   "cell_type": "code",
   "execution_count": 290,
   "metadata": {},
   "outputs": [
    {
     "name": "stdout",
     "output_type": "stream",
     "text": [
      "The logistic regression BASELINE MODEL validation roc auc is 0.759\n"
     ]
    }
   ],
   "source": [
    "auc_base = baseline.scores_[True].mean(axis=0).max()\n",
    "print('The logistic regression BASELINE MODEL validation roc auc is {0:.3f}'.format(auc_base))"
   ]
  },
  {
   "cell_type": "markdown",
   "metadata": {},
   "source": [
    "We plot the **PR and ROC curves** on the **test set** and compute the AUC to gain more insight on the model performance (*we will do so for the baseline, the preferred model we build from a BoW representation in Task 1 and the preferred model using word vectors in Task 2*):"
   ]
  },
  {
   "cell_type": "code",
   "execution_count": 291,
   "metadata": {
    "collapsed": true
   },
   "outputs": [],
   "source": [
    "from sklearn.metrics import precision_recall_curve\n",
    "from sklearn.metrics import roc_curve\n",
    "from sklearn.metrics import roc_auc_score"
   ]
  },
  {
   "cell_type": "code",
   "execution_count": 292,
   "metadata": {
    "collapsed": true
   },
   "outputs": [],
   "source": [
    "test_bag = vect.transform(test['body'])"
   ]
  },
  {
   "cell_type": "code",
   "execution_count": 293,
   "metadata": {
    "collapsed": true
   },
   "outputs": [],
   "source": [
    "baseline_auc = roc_auc_score(test['REMOVED'], \n",
    "                             baseline.predict_proba(test_bag)[:, 1])"
   ]
  },
  {
   "cell_type": "code",
   "execution_count": 294,
   "metadata": {},
   "outputs": [
    {
     "name": "stdout",
     "output_type": "stream",
     "text": [
      "The BASELINE MODEL auc is .0.768\n"
     ]
    }
   ],
   "source": [
    "print(\"The BASELINE MODEL auc is .{0:.3f}\".format(baseline_auc))"
   ]
  },
  {
   "cell_type": "code",
   "execution_count": 295,
   "metadata": {
    "collapsed": true
   },
   "outputs": [],
   "source": [
    "precision, recall, _ = precision_recall_curve(test['REMOVED'], \n",
    "                                              baseline.predict_proba(test_bag)[:, 1])\n",
    "fpr, tpr, _ = roc_curve(test['REMOVED'], \n",
    "                        baseline.predict_proba(test_bag)[:, 1])"
   ]
  },
  {
   "cell_type": "code",
   "execution_count": 296,
   "metadata": {},
   "outputs": [
    {
     "data": {
      "image/png": "[encoded data removed]",
      "text/plain": [
       "<Figure size 864x360 with 2 Axes>"
      ]
     },
     "metadata": {
      "needs_background": "light"
     },
     "output_type": "display_data"
    }
   ],
   "source": [
    "fig, ax = plt.subplots(1, 2, figsize=(12, 5))\n",
    "\n",
    "ax[0].plot(recall, precision, label=\"baseline\")\n",
    "ax[0].set_xlabel(\"recall\")\n",
    "ax[0].set_ylabel(\"precision\")\n",
    "ax[0].set_title(\"PR curve\")\n",
    "ax[0].legend(loc=\"best\")\n",
    "\n",
    "ax[1].plot(fpr, tpr, label=\"baseline\")\n",
    "ax[1].set_xlabel(\"FPR\")\n",
    "ax[1].set_ylabel(\"TPR\")\n",
    "ax[1].set_title(\"ROC\")\n",
    "ax[1].legend(loc=\"best\")\n",
    "\n",
    "fig.tight_layout()"
   ]
  },
  {
   "cell_type": "markdown",
   "metadata": {},
   "source": [
    "One shouldn't be too surprised at the PR curve, which looks chaotic for low recalls. A PR curve should be monotonous with respect to recall but not precision necessarily. Having some misclassified points with probabilities far from their true classes can lead to such a curve as above."
   ]
  },
  {
   "cell_type": "markdown",
   "metadata": {},
   "source": [
    "The overall performance of the baseline looks pretty suboptimal and we will explore ways to improve it in the following."
   ]
  },
  {
   "cell_type": "markdown",
   "metadata": {},
   "source": [
    "### 1.2 Try using n-grams, characters, tf-idf rescaling and possibly other ways to tune the BoWmodel. Be aware that you might need to adjust the (regularization of the) linear model for different feature sets."
   ]
  },
  {
   "cell_type": "markdown",
   "metadata": {},
   "source": [
    "**We will try different strategies to modify the BoW representation - and hopefully improve it -, always reporting the validation AUC to compare to the baseline.**\n",
    "\n",
    "**We will also plot PR and ROC curves on the test set for the most promising model and compare those to the baseline.**"
   ]
  },
  {
   "cell_type": "markdown",
   "metadata": {},
   "source": [
    "#### Using n-grams"
   ]
  },
  {
   "cell_type": "markdown",
   "metadata": {},
   "source": [
    "We will try to fit a model with an n-gram representation with n ranging from 1 to 2 - choosing a minimum of documents in which a word appear to be 6 to limit the number of features - in an effort to avoid overfitting with an overbearing number of features compared to the number of training instances."
   ]
  },
  {
   "cell_type": "code",
   "execution_count": 24,
   "metadata": {
    "collapsed": true
   },
   "outputs": [],
   "source": [
    "ngram_vect = CountVectorizer(ngram_range=(1, 2), min_df=6)"
   ]
  },
  {
   "cell_type": "code",
   "execution_count": 25,
   "metadata": {
    "collapsed": true
   },
   "outputs": [],
   "source": [
    "train_ngram_bag = ngram_vect.fit_transform(train['body'])"
   ]
  },
  {
   "cell_type": "markdown",
   "metadata": {},
   "source": [
    "The vocabulary size is now:"
   ]
  },
  {
   "cell_type": "code",
   "execution_count": 26,
   "metadata": {},
   "outputs": [
    {
     "data": {
      "text/plain": [
       "147372"
      ]
     },
     "execution_count": 26,
     "metadata": {},
     "output_type": "execute_result"
    }
   ],
   "source": [
    "len(ngram_vect.vocabulary_)"
   ]
  },
  {
   "cell_type": "markdown",
   "metadata": {},
   "source": [
    "Examples of tokens:"
   ]
  },
  {
   "cell_type": "code",
   "execution_count": 27,
   "metadata": {},
   "outputs": [
    {
     "data": {
      "text/plain": [
       "['00',\n",
       " 'and pretend',\n",
       " 'bertrand',\n",
       " 'contacts',\n",
       " 'empirical data',\n",
       " 'get something',\n",
       " 'in being',\n",
       " 'lentils',\n",
       " 'myopia',\n",
       " 'org 2018',\n",
       " 'rats do',\n",
       " 'smoking cigs',\n",
       " 'that wasn',\n",
       " 'to bind',\n",
       " 'went down']"
      ]
     },
     "execution_count": 27,
     "metadata": {},
     "output_type": "execute_result"
    }
   ],
   "source": [
    "ngram_vect.get_feature_names()[::10000]"
   ]
  },
  {
   "cell_type": "markdown",
   "metadata": {},
   "source": [
    "Cross-validating (grid-searching the best regularization parameter) the logistic regression:"
   ]
  },
  {
   "cell_type": "code",
   "execution_count": 28,
   "metadata": {
    "collapsed": true
   },
   "outputs": [],
   "source": [
    "ngram_model = LogisticRegressionCV(scoring='roc_auc', random_state=20190409)"
   ]
  },
  {
   "cell_type": "code",
   "execution_count": 29,
   "metadata": {
    "collapsed": true
   },
   "outputs": [],
   "source": [
    "# to avoid convergence warnings popping up\n",
    "with warnings.catch_warnings():\n",
    "    warnings.simplefilter(\"ignore\")\n",
    "    ngram_model.fit(train_ngram_bag, train['REMOVED'])"
   ]
  },
  {
   "cell_type": "markdown",
   "metadata": {},
   "source": [
    "Compare with baseline:"
   ]
  },
  {
   "cell_type": "code",
   "execution_count": 30,
   "metadata": {},
   "outputs": [
    {
     "name": "stdout",
     "output_type": "stream",
     "text": [
      "The logistic regression N-GRAM MODEL validation roc auc is 0.763\n"
     ]
    }
   ],
   "source": [
    "auc_ngram = ngram_model.scores_[True].mean(axis=0).max()\n",
    "print('The logistic regression N-GRAM MODEL validation roc auc is {0:.3f}'.format(auc_ngram))"
   ]
  },
  {
   "cell_type": "code",
   "execution_count": 31,
   "metadata": {},
   "outputs": [
    {
     "name": "stdout",
     "output_type": "stream",
     "text": [
      "The logistic regression BASELINE MODEL validation roc auc is 0.759\n"
     ]
    }
   ],
   "source": [
    "print('The logistic regression BASELINE MODEL validation roc auc is {0:.3f}'.format(auc_base))"
   ]
  },
  {
   "cell_type": "markdown",
   "metadata": {},
   "source": [
    "We have a slight improvement of AUC, but we also added close to 30,000 features. The improvement does not seem to justify the large increase in number of features. We might need to combine n-grams with other tuning parameters to obtain a sensible gain in AUC."
   ]
  },
  {
   "cell_type": "markdown",
   "metadata": {},
   "source": [
    "#### Using characters"
   ]
  },
  {
   "cell_type": "markdown",
   "metadata": {},
   "source": [
    "We now fit a model with an n-gram character representation with n ranging from 2 to 4 - choosing a minimum of documents in which a word appear to be 6 to limit the number of features."
   ]
  },
  {
   "cell_type": "code",
   "execution_count": 32,
   "metadata": {
    "collapsed": true
   },
   "outputs": [],
   "source": [
    "char_vect = CountVectorizer(ngram_range=(2, 4), min_df=6, analyzer='char')"
   ]
  },
  {
   "cell_type": "code",
   "execution_count": 33,
   "metadata": {
    "collapsed": true
   },
   "outputs": [],
   "source": [
    "train_char_bag = char_vect.fit_transform(train['body'])"
   ]
  },
  {
   "cell_type": "markdown",
   "metadata": {},
   "source": [
    "The vocabulary size is now:"
   ]
  },
  {
   "cell_type": "code",
   "execution_count": 34,
   "metadata": {},
   "outputs": [
    {
     "data": {
      "text/plain": [
       "126910"
      ]
     },
     "execution_count": 34,
     "metadata": {},
     "output_type": "execute_result"
    }
   ],
   "source": [
    "len(char_vect.vocabulary_)"
   ]
  },
  {
   "cell_type": "markdown",
   "metadata": {},
   "source": [
    "Examples of tokens:"
   ]
  },
  {
   "cell_type": "code",
   "execution_count": 35,
   "metadata": {},
   "outputs": [
    {
     "data": {
      "text/plain": [
       "['\\t&',\n",
       " '\"wai',\n",
       " '/) a',\n",
       " '4/) ',\n",
       " 'a, t',\n",
       " 'cow ',\n",
       " 'ere&',\n",
       " 'i \"',\n",
       " 'llow',\n",
       " 'o ht',\n",
       " 'rb ',\n",
       " 't/47',\n",
       " 'wths']"
      ]
     },
     "execution_count": 35,
     "metadata": {},
     "output_type": "execute_result"
    }
   ],
   "source": [
    "char_vect.get_feature_names()[::10000]"
   ]
  },
  {
   "cell_type": "markdown",
   "metadata": {},
   "source": [
    "Cross-validating (grid-searching the best regularization parameter) the logistic regression:"
   ]
  },
  {
   "cell_type": "code",
   "execution_count": 36,
   "metadata": {
    "collapsed": true
   },
   "outputs": [],
   "source": [
    "char_model = LogisticRegressionCV(scoring='roc_auc', random_state=20190409)"
   ]
  },
  {
   "cell_type": "code",
   "execution_count": 37,
   "metadata": {
    "collapsed": true
   },
   "outputs": [],
   "source": [
    "# to avoid convergence warnings popping up\n",
    "with warnings.catch_warnings():\n",
    "    warnings.simplefilter(\"ignore\")\n",
    "    char_model.fit(train_char_bag, train['REMOVED'])"
   ]
  },
  {
   "cell_type": "markdown",
   "metadata": {},
   "source": [
    "Compare with baseline:"
   ]
  },
  {
   "cell_type": "code",
   "execution_count": 38,
   "metadata": {},
   "outputs": [
    {
     "name": "stdout",
     "output_type": "stream",
     "text": [
      "The logistic regression CHARACTER MODEL validation roc auc is 0.780\n"
     ]
    }
   ],
   "source": [
    "auc_char = char_model.scores_[True].mean(axis=0).max()\n",
    "print('The logistic regression CHARACTER MODEL validation roc auc is {0:.3f}'.format(auc_char))"
   ]
  },
  {
   "cell_type": "code",
   "execution_count": 39,
   "metadata": {},
   "outputs": [
    {
     "name": "stdout",
     "output_type": "stream",
     "text": [
      "The logistic regression BASELINE MODEL validation roc auc is 0.759\n"
     ]
    }
   ],
   "source": [
    "print('The logistic regression BASELINE MODEL validation roc auc is {0:.3f}'.format(auc_base))"
   ]
  },
  {
   "cell_type": "markdown",
   "metadata": {},
   "source": [
    "The AUC has significantly improved with an addition of 10,000 features (~10% of baseline features), using character n-grams seems promising. We will try to incorporate it and combine it with other tuning parameters to find a better model."
   ]
  },
  {
   "cell_type": "markdown",
   "metadata": {},
   "source": [
    "#### Using tf-idf rescaling"
   ]
  },
  {
   "cell_type": "markdown",
   "metadata": {},
   "source": [
    "We know use tf-idf weighting on the word counts with a base word count vectorizer (and l2 normalization on each row)."
   ]
  },
  {
   "cell_type": "code",
   "execution_count": 40,
   "metadata": {
    "collapsed": true
   },
   "outputs": [],
   "source": [
    "from sklearn.feature_extraction.text import TfidfVectorizer"
   ]
  },
  {
   "cell_type": "code",
   "execution_count": 41,
   "metadata": {
    "collapsed": true
   },
   "outputs": [],
   "source": [
    "tfidf_vect = TfidfVectorizer()"
   ]
  },
  {
   "cell_type": "code",
   "execution_count": 42,
   "metadata": {
    "collapsed": true
   },
   "outputs": [],
   "source": [
    "train_tfidf_bag = tfidf_vect.fit_transform(train['body'])"
   ]
  },
  {
   "cell_type": "markdown",
   "metadata": {},
   "source": [
    "The vocabulary size is now:"
   ]
  },
  {
   "cell_type": "code",
   "execution_count": 43,
   "metadata": {},
   "outputs": [
    {
     "data": {
      "text/plain": [
       "113804"
      ]
     },
     "execution_count": 43,
     "metadata": {},
     "output_type": "execute_result"
    }
   ],
   "source": [
    "len(tfidf_vect.vocabulary_)"
   ]
  },
  {
   "cell_type": "markdown",
   "metadata": {},
   "source": [
    "As expected, it is the same as the baseline vocabulary size - only the count values are now weighted using the tf-idf scheme."
   ]
  },
  {
   "cell_type": "markdown",
   "metadata": {},
   "source": [
    "Examples of tokens:"
   ]
  },
  {
   "cell_type": "code",
   "execution_count": 44,
   "metadata": {},
   "outputs": [
    {
     "data": {
      "text/plain": [
       "['00',\n",
       " '663',\n",
       " 'babysitter',\n",
       " 'compassing',\n",
       " 'eggsâ',\n",
       " 'greenaway',\n",
       " 'kajillion',\n",
       " 'mosanto',\n",
       " 'phylogenetic',\n",
       " 'russkies',\n",
       " 'surrogacy',\n",
       " 'warned']"
      ]
     },
     "execution_count": 44,
     "metadata": {},
     "output_type": "execute_result"
    }
   ],
   "source": [
    "tfidf_vect.get_feature_names()[::10000]"
   ]
  },
  {
   "cell_type": "markdown",
   "metadata": {},
   "source": [
    "Cross-validating (grid-searching the best regularization parameter) the logistic regression:"
   ]
  },
  {
   "cell_type": "code",
   "execution_count": 45,
   "metadata": {
    "collapsed": true
   },
   "outputs": [],
   "source": [
    "tfidf_model = LogisticRegressionCV(scoring='roc_auc', random_state=20190409)"
   ]
  },
  {
   "cell_type": "code",
   "execution_count": 46,
   "metadata": {
    "collapsed": true
   },
   "outputs": [],
   "source": [
    "# to avoid convergence warnings popping up\n",
    "with warnings.catch_warnings():\n",
    "    warnings.simplefilter(\"ignore\")\n",
    "    tfidf_model.fit(train_tfidf_bag, train['REMOVED'])"
   ]
  },
  {
   "cell_type": "markdown",
   "metadata": {},
   "source": [
    "Compare with baseline:"
   ]
  },
  {
   "cell_type": "code",
   "execution_count": 47,
   "metadata": {},
   "outputs": [
    {
     "name": "stdout",
     "output_type": "stream",
     "text": [
      "The logistic regression TFIDF MODEL validation roc auc is 0.768\n"
     ]
    }
   ],
   "source": [
    "auc_tfidf = tfidf_model.scores_[True].mean(axis=0).max()\n",
    "print('The logistic regression TFIDF MODEL validation roc auc is {0:.3f}'.format(auc_tfidf))"
   ]
  },
  {
   "cell_type": "code",
   "execution_count": 48,
   "metadata": {},
   "outputs": [
    {
     "name": "stdout",
     "output_type": "stream",
     "text": [
      "The logistic regression BASELINE MODEL validation roc auc is 0.759\n"
     ]
    }
   ],
   "source": [
    "print('The logistic regression BASELINE MODEL validation roc auc is {0:.3f}'.format(auc_base))"
   ]
  },
  {
   "cell_type": "markdown",
   "metadata": {},
   "source": [
    "The results are better than the baseline, less significantly so than just using character n-grams without tf-idf. One could hope that combining both will significantly improve our metrics."
   ]
  },
  {
   "cell_type": "markdown",
   "metadata": {},
   "source": [
    "#### Throwing away stop words"
   ]
  },
  {
   "cell_type": "code",
   "execution_count": 57,
   "metadata": {
    "collapsed": true
   },
   "outputs": [],
   "source": [
    "stop_vect = CountVectorizer(stop_words=\"english\")"
   ]
  },
  {
   "cell_type": "code",
   "execution_count": 58,
   "metadata": {
    "collapsed": true
   },
   "outputs": [],
   "source": [
    "train_stop_bag = stop_vect.fit_transform(train['body'])"
   ]
  },
  {
   "cell_type": "code",
   "execution_count": 59,
   "metadata": {},
   "outputs": [
    {
     "data": {
      "text/plain": [
       "113494"
      ]
     },
     "execution_count": 59,
     "metadata": {},
     "output_type": "execute_result"
    }
   ],
   "source": [
    "len(stop_vect.vocabulary_)"
   ]
  },
  {
   "cell_type": "code",
   "execution_count": 60,
   "metadata": {},
   "outputs": [
    {
     "data": {
      "text/plain": [
       "['00',\n",
       " '663',\n",
       " 'backdoors',\n",
       " 'complacency',\n",
       " 'ehp2773',\n",
       " 'griffiths',\n",
       " 'karelin',\n",
       " 'mounties',\n",
       " 'piercings',\n",
       " 's00426',\n",
       " 'sweatiest',\n",
       " 'weakening']"
      ]
     },
     "execution_count": 60,
     "metadata": {},
     "output_type": "execute_result"
    }
   ],
   "source": [
    "stop_vect.get_feature_names()[::10000]"
   ]
  },
  {
   "cell_type": "markdown",
   "metadata": {},
   "source": [
    "Cross-validating (grid-searching the best regularization parameter) the logistic regression:"
   ]
  },
  {
   "cell_type": "code",
   "execution_count": 61,
   "metadata": {
    "collapsed": true
   },
   "outputs": [],
   "source": [
    "stop_model = LogisticRegressionCV(scoring='roc_auc', random_state=20190409)"
   ]
  },
  {
   "cell_type": "code",
   "execution_count": 62,
   "metadata": {
    "collapsed": true
   },
   "outputs": [],
   "source": [
    "# to avoid convergence warnings popping up\n",
    "with warnings.catch_warnings():\n",
    "    warnings.simplefilter(\"ignore\")\n",
    "    stop_model.fit(train_stop_bag, train['REMOVED'])"
   ]
  },
  {
   "cell_type": "markdown",
   "metadata": {},
   "source": [
    "Compare with baseline:"
   ]
  },
  {
   "cell_type": "code",
   "execution_count": 63,
   "metadata": {},
   "outputs": [
    {
     "name": "stdout",
     "output_type": "stream",
     "text": [
      "The logistic regression STOP-WORDS MODEL validation roc auc is 0.752\n"
     ]
    }
   ],
   "source": [
    "auc_stop = stop_model.scores_[True].mean(axis=0).max()\n",
    "print('The logistic regression STOP-WORDS MODEL validation roc auc is {0:.3f}'.format(auc_stop))"
   ]
  },
  {
   "cell_type": "code",
   "execution_count": 64,
   "metadata": {},
   "outputs": [
    {
     "name": "stdout",
     "output_type": "stream",
     "text": [
      "The logistic regression BASELINE MODEL validation roc auc is 0.759\n"
     ]
    }
   ],
   "source": [
    "print('The logistic regression BASELINE MODEL validation roc auc is {0:.3f}'.format(auc_base))"
   ]
  },
  {
   "cell_type": "markdown",
   "metadata": {},
   "source": [
    "Removing stop words actually worsens the performance of the baseline! It seems that stop words might be informative in our context of moderating the thread."
   ]
  },
  {
   "cell_type": "markdown",
   "metadata": {},
   "source": [
    "#### Combining different tuning parameters"
   ]
  },
  {
   "cell_type": "markdown",
   "metadata": {},
   "source": [
    "We now combine several tuning parameters to hopefully get better validation results. Splitting the data into character n-grams seemed promising, so *we decided to combine this representation with a tf-idf weighting, removing character n-grams that are too rare*."
   ]
  },
  {
   "cell_type": "code",
   "execution_count": 50,
   "metadata": {
    "collapsed": true
   },
   "outputs": [],
   "source": [
    "comb_vect = TfidfVectorizer(analyzer='char', ngram_range=(2, 4), min_df=6)"
   ]
  },
  {
   "cell_type": "code",
   "execution_count": 51,
   "metadata": {
    "collapsed": true
   },
   "outputs": [],
   "source": [
    "train_comb_bag = comb_vect.fit_transform(train['body'])"
   ]
  },
  {
   "cell_type": "code",
   "execution_count": 53,
   "metadata": {},
   "outputs": [
    {
     "data": {
      "text/plain": [
       "126910"
      ]
     },
     "execution_count": 53,
     "metadata": {},
     "output_type": "execute_result"
    }
   ],
   "source": [
    "len(comb_vect.vocabulary_)"
   ]
  },
  {
   "cell_type": "code",
   "execution_count": 54,
   "metadata": {},
   "outputs": [
    {
     "data": {
      "text/plain": [
       "['\\t&',\n",
       " '\"wai',\n",
       " '/) a',\n",
       " '4/) ',\n",
       " 'a, t',\n",
       " 'cow ',\n",
       " 'ere&',\n",
       " 'i \"',\n",
       " 'llow',\n",
       " 'o ht',\n",
       " 'rb ',\n",
       " 't/47',\n",
       " 'wths']"
      ]
     },
     "execution_count": 54,
     "metadata": {},
     "output_type": "execute_result"
    }
   ],
   "source": [
    "comb_vect.get_feature_names()[::10000]"
   ]
  },
  {
   "cell_type": "code",
   "execution_count": 55,
   "metadata": {
    "collapsed": true
   },
   "outputs": [],
   "source": [
    "comb_model = LogisticRegressionCV(scoring='roc_auc', random_state=20190409)"
   ]
  },
  {
   "cell_type": "code",
   "execution_count": 56,
   "metadata": {
    "collapsed": true
   },
   "outputs": [],
   "source": [
    "# to avoid convergence warnings popping up\n",
    "with warnings.catch_warnings():\n",
    "    warnings.simplefilter(\"ignore\")\n",
    "    comb_model.fit(train_comb_bag, train['REMOVED'])"
   ]
  },
  {
   "cell_type": "code",
   "execution_count": 57,
   "metadata": {},
   "outputs": [
    {
     "name": "stdout",
     "output_type": "stream",
     "text": [
      "The logistic regression COMBINED MODEL validation roc auc is 0.789\n"
     ]
    }
   ],
   "source": [
    "auc_comb = comb_model.scores_[True].mean(axis=0).max()\n",
    "print('The logistic regression COMBINED MODEL validation roc auc is {0:.3f}'.format(auc_comb))"
   ]
  },
  {
   "cell_type": "code",
   "execution_count": 58,
   "metadata": {},
   "outputs": [
    {
     "name": "stdout",
     "output_type": "stream",
     "text": [
      "The logistic regression BASELINE MODEL validation roc auc is 0.759\n"
     ]
    }
   ],
   "source": [
    "print('The logistic regression BASELINE MODEL validation roc auc is {0:.3f}'.format(auc_base))"
   ]
  },
  {
   "cell_type": "markdown",
   "metadata": {},
   "source": [
    "This is the best ROC AUC we have seen as of yet. **We will stop the model selection process based on the BoW representation only now and report results on the test set of this improved character-tfidf-BoW model**:"
   ]
  },
  {
   "cell_type": "code",
   "execution_count": 80,
   "metadata": {
    "collapsed": true
   },
   "outputs": [],
   "source": [
    "comb_bag = comb_vect.transform(test['body'])"
   ]
  },
  {
   "cell_type": "code",
   "execution_count": 82,
   "metadata": {
    "collapsed": true
   },
   "outputs": [],
   "source": [
    "comb_model_auc = roc_auc_score(test['REMOVED'], \n",
    "                               comb_model.predict_proba(comb_bag)[:, 1])"
   ]
  },
  {
   "cell_type": "code",
   "execution_count": 84,
   "metadata": {},
   "outputs": [
    {
     "name": "stdout",
     "output_type": "stream",
     "text": [
      "The AUC on the test set is 0.798\n"
     ]
    }
   ],
   "source": [
    "print(\"The AUC on the test set is {0:.3f}\".format(comb_model_auc))"
   ]
  },
  {
   "cell_type": "code",
   "execution_count": 86,
   "metadata": {},
   "outputs": [
    {
     "name": "stdout",
     "output_type": "stream",
     "text": [
      "The AUC of the baseline on the test set is 0.768\n"
     ]
    }
   ],
   "source": [
    "print(\"The AUC of the baseline on the test set is {0:.3f}\".format(baseline_auc))"
   ]
  },
  {
   "cell_type": "code",
   "execution_count": 91,
   "metadata": {
    "collapsed": true
   },
   "outputs": [],
   "source": [
    "precision2, recall2, _ = precision_recall_curve(test['REMOVED'], \n",
    "                                              comb_model.predict_proba(comb_bag)[:, 1])\n",
    "fpr2, tpr2, _ = roc_curve(test['REMOVED'], \n",
    "                        comb_model.predict_proba(comb_bag)[:, 1])"
   ]
  },
  {
   "cell_type": "code",
   "execution_count": 92,
   "metadata": {},
   "outputs": [
    {
     "data": {
      "image/png": "[encoded data removed]",
      "text/plain": [
       "<Figure size 864x360 with 2 Axes>"
      ]
     },
     "metadata": {
      "needs_background": "light"
     },
     "output_type": "display_data"
    }
   ],
   "source": [
    "fig, ax = plt.subplots(1, 2, figsize=(12, 5))\n",
    "\n",
    "ax[0].plot(recall, precision, label=\"baseline\")\n",
    "ax[0].plot(recall2, precision2, label=\"tfidf-char-model\")\n",
    "ax[0].set_xlabel(\"recall\")\n",
    "ax[0].set_ylabel(\"precision\")\n",
    "ax[0].set_title(\"PR curve\")\n",
    "ax[0].legend(loc=\"best\")\n",
    "\n",
    "ax[1].plot(fpr, tpr, label=\"baseline\")\n",
    "ax[1].plot(fpr2, tpr2, label=\"tfidf-char-model\")\n",
    "ax[1].set_xlabel(\"FPR\")\n",
    "ax[1].set_ylabel(\"TPR\")\n",
    "ax[1].set_title(\"ROC\")\n",
    "ax[1].legend(loc=\"best\")\n",
    "\n",
    "fig.tight_layout()"
   ]
  },
  {
   "cell_type": "markdown",
   "metadata": {},
   "source": [
    "The new model performs better on the test data as both its curves are systematically above the baseline's."
   ]
  },
  {
   "cell_type": "markdown",
   "metadata": {},
   "source": [
    "### 1.3 Explore other features you can derive from the text, such as html, length, punctuation,capitalization or other features you deem important from exploring the dataset"
   ]
  },
  {
   "cell_type": "markdown",
   "metadata": {},
   "source": [
    "Ideas: "
   ]
  },
  {
   "cell_type": "markdown",
   "metadata": {},
   "source": [
    "from https://www.kaggle.com/alber8295/kisa-md-trabajo-final-an-lisis-de-datos\n",
    "clean words for the ngram part (keep only letters and spaces)"
   ]
  },
  {
   "cell_type": "markdown",
   "metadata": {},
   "source": [
    "from https://www.kaggle.com/areeves87/xgb-lgbm-glmnet-on-text2vec-tf-idf-auc-0-821\n",
    "stemming before making BoW"
   ]
  },
  {
   "cell_type": "markdown",
   "metadata": {},
   "source": [
    "from https://www.kaggle.com/tunguz/logistic-regression-with-words-and-char-n-grams/code\n",
    "limit the number of features"
   ]
  },
  {
   "cell_type": "markdown",
   "metadata": {},
   "source": [
    "from https://www.kaggle.com/jhoward/nb-svm-strong-linear-baseline\n",
    "length of the comment in words,\n",
    "length of the comment in characters"
   ]
  },
  {
   "cell_type": "markdown",
   "metadata": {},
   "source": [
    "from https://www.kaggle.com/areeves87/nbsvm-w-char-grams-auc-824\n",
    "combine both word and character mappings (with hstack)"
   ]
  },
  {
   "cell_type": "code",
   "execution_count": 316,
   "metadata": {
    "collapsed": true
   },
   "outputs": [],
   "source": [
    "train = pd.read_csv(\"data/reddit_200k_train.csv\", encoding=\"ISO-8859-1\", usecols=[\"body\", \"REMOVED\"])\n",
    "test = pd.read_csv(\"data/reddit_200k_test.csv\", encoding=\"ISO-8859-1\", usecols=[\"body\", \"REMOVED\"])"
   ]
  },
  {
   "cell_type": "code",
   "execution_count": 299,
   "metadata": {
    "collapsed": true
   },
   "outputs": [],
   "source": [
    "#Cleaning the numbers for reducing the number of features\n",
    "\n",
    "def clean_numbers(x):\n",
    "    x = re.sub('[0-9]{5,}', '#####', x)\n",
    "    x = re.sub('[0-9]{4}', '####', x)\n",
    "    x = re.sub('[0-9]{3}', '###', x)\n",
    "    x = re.sub('[0-9]{2}', '##', x)\n",
    "    return x\n",
    "\n",
    "train['body'] = train['body'].apply(lambda x: clean_numbers(x))"
   ]
  },
  {
   "cell_type": "code",
   "execution_count": 301,
   "metadata": {},
   "outputs": [],
   "source": [
    "from sklearn.feature_extraction.text import TfidfVectorizer\n",
    "\n",
    "vect = TfidfVectorizer(analyzer='char', ngram_range=(2, 4), min_df=6) "
   ]
  },
  {
   "cell_type": "code",
   "execution_count": 302,
   "metadata": {},
   "outputs": [
    {
     "data": {
      "text/plain": [
       "114198"
      ]
     },
     "execution_count": 302,
     "metadata": {},
     "output_type": "execute_result"
    }
   ],
   "source": [
    "train_bag = vect.fit_transform(train['body'])\n",
    "\n",
    "len(vect.vocabulary_)"
   ]
  },
  {
   "cell_type": "code",
   "execution_count": 331,
   "metadata": {
    "collapsed": true
   },
   "outputs": [],
   "source": [
    "# Counting the number of punctuation characters in the text\n",
    "punct = \"/-'?!.,#$%\\'()*+-/:;<=>@[\\\\]^_`{|}~\" + '\"\"“”’' + '∞θ÷α•à−β∅³π‘₹´°£€\\×™√²—–&'\n",
    "\n",
    "def count_punct(text):\n",
    "    counter = 0\n",
    "    for character in list(text):\n",
    "        if character in punct:\n",
    "            counter += 1\n",
    "    return counter\n",
    "\n",
    "train['count_punct'] = train['body'].apply(lambda x: count_punct(x))"
   ]
  },
  {
   "cell_type": "code",
   "execution_count": 332,
   "metadata": {
    "collapsed": true
   },
   "outputs": [],
   "source": [
    "# Counting the number of uppercase character in the string\n",
    "\n",
    "def count_upper(text):\n",
    "    return sum(1 for c in list(text) if c.isupper())\n",
    "\n",
    "train['count_upper'] = train['body'].apply(lambda x: count_punct(x))"
   ]
  },
  {
   "cell_type": "code",
   "execution_count": 333,
   "metadata": {
    "collapsed": true
   },
   "outputs": [],
   "source": [
    "# Counting the number of characters\n",
    "\n",
    "def count_char(text):\n",
    "    return sum(1 for c in list(text))\n",
    "\n",
    "train['count_char'] = train['body'].apply(lambda x: count_char(x))"
   ]
  },
  {
   "cell_type": "code",
   "execution_count": 334,
   "metadata": {
    "collapsed": true
   },
   "outputs": [],
   "source": [
    "# Counting the number of words\n",
    "\n",
    "def count_words(text):\n",
    "    return sum(1 for c in text.split(' '))\n",
    "\n",
    "train['count_words'] = train['body'].apply(lambda x: count_words(x))"
   ]
  },
  {
   "cell_type": "code",
   "execution_count": 335,
   "metadata": {
    "collapsed": true
   },
   "outputs": [],
   "source": [
    "# Counting the max number of occurence of the same character\n",
    "# We can observe that some users tend to repeat many times the same character\n",
    "# like in 'ooooooooooh' which can be related to the fact that it should be removed\n",
    "\n",
    "from collections import Counter\n",
    "import operator\n",
    "\n",
    "def count_max_char_occ(text):\n",
    "    counter = Counter(text)\n",
    "    return max(counter.items(), key=operator.itemgetter(1))[1]\n",
    "\n",
    "train['count_max_char_occ'] = train['body'].apply(lambda x: count_max_char_occ(x))"
   ]
  },
  {
   "cell_type": "code",
   "execution_count": 308,
   "metadata": {},
   "outputs": [],
   "source": [
    "from scipy.sparse import hstack\n",
    "from scipy.sparse import coo_matrix\n",
    "import scipy.sparse\n",
    "import scipy\n",
    "\n",
    "count_punct = scipy.sparse.csr_matrix(train['count_punct'].values.reshape((train.shape[0],1)))\n",
    "count_max_char_occ = scipy.sparse.csr_matrix(train['count_max_char_occ'].values.reshape((train.shape[0],1)))\n",
    "count_words = scipy.sparse.csr_matrix(train['count_words'].values.reshape((train.shape[0],1)))\n",
    "count_char = scipy.sparse.csr_matrix(train['count_char'].values.reshape((train.shape[0],1)))\n",
    "count_upper = scipy.sparse.csr_matrix(train['count_upper'].values.reshape((train.shape[0],1)))\n",
    "\n",
    " \n",
    "\n",
    "X_train = scipy.sparse.hstack([train_bag, count_punct,count_max_char_occ,count_words,count_char,count_upper])"
   ]
  },
  {
   "cell_type": "code",
   "execution_count": 311,
   "metadata": {
    "collapsed": true
   },
   "outputs": [],
   "source": [
    "add_feat_model = LogisticRegressionCV(scoring='roc_auc', random_state=20190409)"
   ]
  },
  {
   "cell_type": "code",
   "execution_count": 312,
   "metadata": {},
   "outputs": [],
   "source": [
    "# to avoid convergence warnings popping up\n",
    "with warnings.catch_warnings():\n",
    "    warnings.simplefilter(\"ignore\")\n",
    "    add_feat_model.fit(X_train, train['REMOVED'])"
   ]
  },
  {
   "cell_type": "markdown",
   "metadata": {},
   "source": [
    "We retrieve the cross-validation auc for the best model:"
   ]
  },
  {
   "cell_type": "code",
   "execution_count": 313,
   "metadata": {},
   "outputs": [
    {
     "name": "stdout",
     "output_type": "stream",
     "text": [
      "The logistic regression validation roc auc is 0.759\n"
     ]
    }
   ],
   "source": [
    "auc_add_feat_model = add_feat_model.scores_[True].mean(axis=0).max()\n",
    "print('The logistic regression validation roc auc is {0:.3f}'.format(auc_base))"
   ]
  },
  {
   "cell_type": "code",
   "execution_count": 337,
   "metadata": {},
   "outputs": [],
   "source": [
    "test['count_punct'] = test['body'].apply(lambda x: count_punct(x))\n",
    "test['count_upper'] = test['body'].apply(lambda x: count_punct(x))\n",
    "test['count_char'] = test['body'].apply(lambda x: count_char(x))\n",
    "test['count_words'] = test['body'].apply(lambda x: count_words(x))\n",
    "test['count_max_char_occ'] = test['body'].apply(lambda x: count_max_char_occ(x))\n",
    "\n",
    "test_bag = vect.transform(test['body'])\n",
    "count_punct = scipy.sparse.csr_matrix(test['count_punct'].values.reshape((test.shape[0],1)))\n",
    "count_max_char_occ = scipy.sparse.csr_matrix(test['count_max_char_occ'].values.reshape((test.shape[0],1)))\n",
    "count_words = scipy.sparse.csr_matrix(test['count_words'].values.reshape((test.shape[0],1)))\n",
    "count_char = scipy.sparse.csr_matrix(test['count_char'].values.reshape((test.shape[0],1)))\n",
    "count_upper = scipy.sparse.csr_matrix(test['count_upper'].values.reshape((test.shape[0],1)))\n",
    "\n",
    "X_test = scipy.sparse.hstack([test_bag, count_punct,count_max_char_occ,count_words,count_char,count_upper])"
   ]
  },
  {
   "cell_type": "code",
   "execution_count": 338,
   "metadata": {
    "collapsed": true
   },
   "outputs": [],
   "source": [
    "add_feat_model_auc = roc_auc_score(test['REMOVED'], \n",
    "                               add_feat_model.predict_proba(X_test)[:, 1])"
   ]
  },
  {
   "cell_type": "code",
   "execution_count": 339,
   "metadata": {},
   "outputs": [
    {
     "name": "stdout",
     "output_type": "stream",
     "text": [
      "The AUC on the test set is 0.795\n"
     ]
    }
   ],
   "source": [
    "print(\"The AUC on the test set is {0:.3f}\".format(add_feat_model_auc))"
   ]
  },
  {
   "cell_type": "code",
   "execution_count": 340,
   "metadata": {},
   "outputs": [
    {
     "name": "stdout",
     "output_type": "stream",
     "text": [
      "The AUC of the baseline on the test set is 0.768\n"
     ]
    }
   ],
   "source": [
    "print(\"The AUC of the baseline on the test set is {0:.3f}\".format(baseline_auc))"
   ]
  },
  {
   "cell_type": "code",
   "execution_count": 341,
   "metadata": {
    "collapsed": true
   },
   "outputs": [],
   "source": [
    "precision3, recall3, _ = precision_recall_curve(test['REMOVED'], \n",
    "                                              add_feat_model.predict_proba(X_test)[:, 1])\n",
    "fpr3, tpr3, _ = roc_curve(test['REMOVED'], \n",
    "                        add_feat_model.predict_proba(X_test)[:, 1])"
   ]
  },
  {
   "cell_type": "code",
   "execution_count": 342,
   "metadata": {},
   "outputs": [
    {
     "data": {
      "image/png": "[encoded data removed]",
      "text/plain": [
       "<Figure size 864x360 with 2 Axes>"
      ]
     },
     "metadata": {
      "needs_background": "light"
     },
     "output_type": "display_data"
    }
   ],
   "source": [
    "fig, ax = plt.subplots(1, 2, figsize=(12, 5))\n",
    "\n",
    "ax[0].plot(recall, precision, label=\"baseline\")\n",
    "ax[0].plot(recall2, precision2, label=\"tfidf-char-model\")\n",
    "ax[0].plot(recall3, precision3, label=\"tfidf-char-model with added features\")\n",
    "ax[0].set_xlabel(\"recall\")\n",
    "ax[0].set_ylabel(\"precision\")\n",
    "ax[0].set_title(\"PR curve\")\n",
    "ax[0].legend(loc=\"best\")\n",
    "\n",
    "ax[1].plot(fpr, tpr, label=\"baseline\")\n",
    "ax[1].plot(fpr2, tpr2, label=\"tfidf-char-model\")\n",
    "ax[1].plot(fpr3, tpr3, label=\"tfidf-char-model with added features\")\n",
    "ax[1].set_xlabel(\"FPR\")\n",
    "ax[1].set_ylabel(\"TPR\")\n",
    "ax[1].set_title(\"ROC\")\n",
    "ax[1].legend(loc=\"best\")\n",
    "\n",
    "fig.tight_layout()"
   ]
  },
  {
   "cell_type": "markdown",
   "metadata": {},
   "source": [
    "## Task 2 Word Vectors"
   ]
  },
  {
   "cell_type": "markdown",
   "metadata": {},
   "source": [
    "### Use a pretrained word-embedding (word2vec, glove or fasttext) instead of the bag-of-words model. Does this improve classification?"
   ]
  },
  {
   "cell_type": "code",
   "execution_count": 253,
   "metadata": {},
   "outputs": [],
   "source": [
    "from nltk import word_tokenize\n",
    "\n",
    "train = pd.read_csv(\"data/reddit_200k_train.csv\", encoding=\"ISO-8859-1\", usecols=[\"body\", \"REMOVED\"])\n",
    "test = pd.read_csv(\"data/reddit_200k_test.csv\", encoding=\"ISO-8859-1\", usecols=[\"body\", \"REMOVED\"])"
   ]
  },
  {
   "cell_type": "markdown",
   "metadata": {},
   "source": [
    "We start by loading the embedding in memory: embeddings_index is a dictionnary with words as keys and vectors as values"
   ]
  },
  {
   "cell_type": "code",
   "execution_count": 183,
   "metadata": {},
   "outputs": [],
   "source": [
    "def get_coefs(word, *arr): \n",
    "    return word, np.asarray(arr, dtype='float32')\n",
    "\n",
    "\n",
    "embeddings_index = dict(get_coefs(*o.rstrip().rsplit(' ')) \n",
    "                        for i,o in enumerate(\n",
    "                            open(\"data/fasttext/\"+\n",
    "                                    \"crawl-300d-2M.vec\")))"
   ]
  },
  {
   "cell_type": "markdown",
   "metadata": {},
   "source": [
    "Then, we tokenize the sentences using nltk and remove the stopwords."
   ]
  },
  {
   "cell_type": "code",
   "execution_count": 254,
   "metadata": {},
   "outputs": [],
   "source": [
    "from nltk import word_tokenize\n",
    "from nltk.corpus import stopwords \n",
    "from nltk.stem import WordNetLemmatizer \n",
    "\n",
    "lemmatizer = WordNetLemmatizer()\n",
    "\n",
    "x = train['body']\n",
    "\n",
    "def tokenize_func(text):\n",
    "    tokenized_text = []\n",
    "    unwanted_words = set(stopwords.words('english'))\n",
    "    for i in range(len(text)):\n",
    "        comment = text[i].lower()\n",
    "        string_arr = word_tokenize(comment)\n",
    "        filtered_array = []\n",
    "        \n",
    "        for word in string_arr:\n",
    "            if word not in unwanted_words:\n",
    "                #filtered_array.append(lemmatizer.lemmatize(word))\n",
    "                filtered_array.append(word)\n",
    "        tokenized_text.append(filtered_array)\n",
    "    return tokenized_text\n",
    "\n",
    "tokenized_text = tokenize_func(x)"
   ]
  },
  {
   "cell_type": "markdown",
   "metadata": {},
   "source": [
    "We can visualize the token we have created and see what are the most common tokens."
   ]
  },
  {
   "cell_type": "code",
   "execution_count": 246,
   "metadata": {},
   "outputs": [
    {
     "name": "stdout",
     "output_type": "stream",
     "text": [
      "[('.', 311260), (',', 241534), ('?', 75961), (')', 40847), (':', 40615), ('(', 39373), ('people', 28719), ('would', 27679), (\"'s\", 27229), ('like', 25634)]\n"
     ]
    }
   ],
   "source": [
    "from collections import Counter\n",
    "print(sorted(Counter([item for sublist in tokenized_text \n",
    "                for item in sublist]).items(), key=operator.itemgetter(1))[::-1][:10])"
   ]
  },
  {
   "cell_type": "markdown",
   "metadata": {},
   "source": [
    "Among the most common words, we can see two different patterns: there are punctuation symbols and part of contracted expressions (like the \"n't\"). Having the punctuation as a token is probably a good thing because it is over-used in removed message. However, contractions are a problem because they will not be embedded because they are badly tokenized."
   ]
  },
  {
   "cell_type": "markdown",
   "metadata": {},
   "source": [
    "Let us check the quality of the coverage ie the ratio of words that can be embedded with the embedding. This is a crucial part: the more embedded words, the more informative the final vector will be."
   ]
  },
  {
   "cell_type": "code",
   "execution_count": 255,
   "metadata": {},
   "outputs": [],
   "source": [
    "def check_coverage(tokenized_text,embeddings_index):\n",
    "\n",
    "    flat_list = [item for sublist in tokenized_text for item in sublist]\n",
    "    vocab = flat_list\n",
    "    nb_of_words = len(list(set(vocab)))\n",
    "\n",
    "    a = dict()\n",
    "    oov = dict()\n",
    "    k = 0\n",
    "    i = 0\n",
    "\n",
    "    for word in vocab:\n",
    "        if word in embeddings_index:\n",
    "            k += 1\n",
    "            if word in a:\n",
    "                a[word] +=1\n",
    "            else:\n",
    "                a[word] =1\n",
    "        else:\n",
    "            if word in oov:\n",
    "                oov[word] +=1\n",
    "            else:\n",
    "                oov[word] =1\n",
    "            i += 1\n",
    "    return sorted(oov.items(), key=operator.itemgetter(1))[::-1],k,i,nb_of_words"
   ]
  },
  {
   "cell_type": "code",
   "execution_count": 248,
   "metadata": {},
   "outputs": [
    {
     "name": "stdout",
     "output_type": "stream",
     "text": [
      "49.48% of the words are covered by the embedding\n"
     ]
    }
   ],
   "source": [
    "oov,k,i,nb_of_words = check_coverage(tokenized_text,embeddings_index)\n",
    "\n",
    "print(\"{:.2f}% of the words are covered by the embedding\".format((float(nb_of_words-len(oov))/(nb_of_words))*100))"
   ]
  },
  {
   "cell_type": "code",
   "execution_count": 229,
   "metadata": {},
   "outputs": [
    {
     "data": {
      "text/plain": [
       "[(\"n't\", 41436),\n",
       " (\"''\", 24963),\n",
       " ('``', 23428),\n",
       " ('itâ\\x80\\x99s', 1698),\n",
       " ('donâ\\x80\\x99t', 1183),\n",
       " ('**', 1171),\n",
       " ('iâ\\x80\\x99m', 1123),\n",
       " ('it\\x92s', 949),\n",
       " ('//www.reddit.com/message/compose', 940),\n",
       " ('2fscience', 914)]"
      ]
     },
     "execution_count": 229,
     "metadata": {},
     "output_type": "execute_result"
    }
   ],
   "source": [
    "oov[:10]"
   ]
  },
  {
   "cell_type": "markdown",
   "metadata": {},
   "source": [
    "We can see that the coverage is not great: about half of the words are present in the embedding. Among the most common out-of-vocabulary words, we can see that there are badly tokenized words, special chars, and contracted expression. \n",
    "\n",
    "Let us try to clean the text to improve the coverage."
   ]
  },
  {
   "cell_type": "markdown",
   "metadata": {},
   "source": [
    "First, we will revert the most common contractions."
   ]
  },
  {
   "cell_type": "code",
   "execution_count": 256,
   "metadata": {},
   "outputs": [],
   "source": [
    "contraction_mapping = {\"ain't\": \"is not\", \"aren't\": \"are not\",\"can't\": \"cannot\", \"'cause\": \"because\", \"could've\": \"could have\", \"couldn't\": \"could not\", \"didn't\": \"did not\",  \"doesn't\": \"does not\", \"don't\": \"do not\", \"hadn't\": \"had not\", \"hasn't\": \"has not\", \"haven't\": \"have not\", \"he'd\": \"he would\",\"he'll\": \"he will\", \"he's\": \"he is\", \"how'd\": \"how did\", \"how'd'y\": \"how do you\", \"how'll\": \"how will\", \"how's\": \"how is\",  \"I'd\": \"I would\", \"I'd've\": \"I would have\", \"I'll\": \"I will\", \"I'll've\": \"I will have\",\"I'm\": \"I am\", \"I've\": \"I have\", \"i'd\": \"i would\", \"i'd've\": \"i would have\", \"i'll\": \"i will\",  \"i'll've\": \"i will have\",\"i'm\": \"i am\", \"i've\": \"i have\", \"isn't\": \"is not\", \"it'd\": \"it would\", \"it'd've\": \"it would have\", \"it'll\": \"it will\", \"it'll've\": \"it will have\",\"it's\": \"it is\", \"let's\": \"let us\", \"ma'am\": \"madam\", \"mayn't\": \"may not\", \"might've\": \"might have\",\"mightn't\": \"might not\",\"mightn't've\": \"might not have\", \"must've\": \"must have\", \"mustn't\": \"must not\", \"mustn't've\": \"must not have\", \"needn't\": \"need not\", \"needn't've\": \"need not have\",\"o'clock\": \"of the clock\", \"oughtn't\": \"ought not\", \"oughtn't've\": \"ought not have\", \"shan't\": \"shall not\", \"sha'n't\": \"shall not\", \"shan't've\": \"shall not have\", \"she'd\": \"she would\", \"she'd've\": \"she would have\", \"she'll\": \"she will\", \"she'll've\": \"she will have\", \"she's\": \"she is\", \"should've\": \"should have\", \"shouldn't\": \"should not\", \"shouldn't've\": \"should not have\", \"so've\": \"so have\",\"so's\": \"so as\", \"this's\": \"this is\",\"that'd\": \"that would\", \"that'd've\": \"that would have\", \"that's\": \"that is\", \"there'd\": \"there would\", \"there'd've\": \"there would have\", \"there's\": \"there is\", \"here's\": \"here is\",\"they'd\": \"they would\", \"they'd've\": \"they would have\", \"they'll\": \"they will\", \"they'll've\": \"they will have\", \"they're\": \"they are\", \"they've\": \"they have\", \"to've\": \"to have\", \"wasn't\": \"was not\", \"we'd\": \"we would\", \"we'd've\": \"we would have\", \"we'll\": \"we will\", \"we'll've\": \"we will have\", \"we're\": \"we are\", \"we've\": \"we have\", \"weren't\": \"were not\", \"what'll\": \"what will\", \"what'll've\": \"what will have\", \"what're\": \"what are\",  \"what's\": \"what is\", \"what've\": \"what have\", \"when's\": \"when is\", \"when've\": \"when have\", \"where'd\": \"where did\", \"where's\": \"where is\", \"where've\": \"where have\", \"who'll\": \"who will\", \"who'll've\": \"who will have\", \"who's\": \"who is\", \"who've\": \"who have\", \"why's\": \"why is\", \"why've\": \"why have\", \"will've\": \"will have\", \"won't\": \"will not\", \"won't've\": \"will not have\", \"would've\": \"would have\", \"wouldn't\": \"would not\", \"wouldn't've\": \"would not have\", \"y'all\": \"you all\", \"y'all'd\": \"you all would\",\"y'all'd've\": \"you all would have\",\"y'all're\": \"you all are\",\"y'all've\": \"you all have\",\"you'd\": \"you would\", \"you'd've\": \"you would have\", \"you'll\": \"you will\", \"you'll've\": \"you will have\", \"you're\": \"you are\", \"you've\": \"you have\" }\n",
    "\n",
    "def clean_contractions(text, mapping):\n",
    "    specials = [\"’\", \"‘\", \"´\", \"`\"]\n",
    "    for s in specials:\n",
    "        text = text.replace(s, \"'\")\n",
    "    text = ' '.join([mapping[t] if t in mapping else t for t in text.split(\" \")])\n",
    "    return text\n",
    "\n",
    "train['body'] = train['body'].apply(lambda x: clean_contractions(x,contraction_mapping))"
   ]
  },
  {
   "cell_type": "markdown",
   "metadata": {},
   "source": [
    "There also seem to be an encoding issue for the ' character: we have 'itâ\\x80\\x99s' which is very likely to be \"it's\" as well as 'it\\x92s' that should also be \"it's\". "
   ]
  },
  {
   "cell_type": "code",
   "execution_count": 257,
   "metadata": {
    "collapsed": true
   },
   "outputs": [],
   "source": [
    "def clean_bad_encoding(x):\n",
    "\n",
    "    x = str(x)\n",
    "    return x.replace('\\x92',\"'\").replace('â\\x80\\x99',\"'\")\n",
    "\n",
    "train['body'] = train['body'].apply(lambda x: clean_bad_encoding(x))\n",
    "#We reapply the clean_contractions function \n",
    "train['body'] = train['body'].apply(lambda x: clean_contractions(x,contraction_mapping))"
   ]
  },
  {
   "cell_type": "code",
   "execution_count": 258,
   "metadata": {},
   "outputs": [
    {
     "name": "stdout",
     "output_type": "stream",
     "text": [
      "52.06% of the words are covered by the embedding\n"
     ]
    }
   ],
   "source": [
    "tokenized_text = tokenize_func(train['body'])\n",
    "oov,k,i,nb_of_words = check_coverage(tokenized_text,embeddings_index)\n",
    "\n",
    "print(\"{:.2f}% of the words are covered by the embedding\".format((float(nb_of_words-len(oov))/(nb_of_words))*100))"
   ]
  },
  {
   "cell_type": "code",
   "execution_count": 242,
   "metadata": {},
   "outputs": [
    {
     "data": {
      "text/plain": [
       "[(\"''\", 24969),\n",
       " ('``', 23423),\n",
       " (\"n't\", 5655),\n",
       " ('**', 1171),\n",
       " ('//www.reddit.com/message/compose', 940),\n",
       " ('2fscience', 914),\n",
       " ('2fr', 914),\n",
       " ('to=', 914),\n",
       " ('message=my', 911),\n",
       " ('20post', 909)]"
      ]
     },
     "execution_count": 242,
     "metadata": {},
     "output_type": "execute_result"
    }
   ],
   "source": [
    "oov[:10]"
   ]
  },
  {
   "cell_type": "code",
   "execution_count": 265,
   "metadata": {},
   "outputs": [],
   "source": [
    "def vectorize_text(tokenized_text):\n",
    "    vector_x = []\n",
    "    for sentence in tokenized_text:\n",
    "        sentence_x = []\n",
    "        for word in sentence:\n",
    "            if word in embeddings_index:\n",
    "                vector = embeddings_index[word]\n",
    "            else:\n",
    "                vector = np.array([0.0] * 300)\n",
    "            sentence_x.append(vector)\n",
    "        #It seems that one of the body text has no word in the embedding\n",
    "        #The if statement allows us to tackle that\n",
    "        if(len(sentence)==0):\n",
    "            vector_x.append(np.array([0.0] * 300))\n",
    "        else:\n",
    "            vector_x.append(np.mean(np.array(sentence_x),axis=0).reshape(300))\n",
    "\n",
    "    return np.array(vector_x)"
   ]
  },
  {
   "cell_type": "code",
   "execution_count": 260,
   "metadata": {
    "collapsed": true
   },
   "outputs": [],
   "source": [
    "emb_model = LogisticRegressionCV(scoring='roc_auc', random_state=20190409)\n"
   ]
  },
  {
   "cell_type": "code",
   "execution_count": 261,
   "metadata": {},
   "outputs": [],
   "source": [
    "# to avoid convergence warnings popping up\n",
    "with warnings.catch_warnings():\n",
    "    warnings.simplefilter(\"ignore\")\n",
    "    emb_model.fit(vector_x, train['REMOVED'])\n",
    "    "
   ]
  },
  {
   "cell_type": "code",
   "execution_count": 262,
   "metadata": {},
   "outputs": [
    {
     "name": "stdout",
     "output_type": "stream",
     "text": [
      "The logistic regression COMBINED MODEL validation roc auc is 0.733\n"
     ]
    }
   ],
   "source": [
    "auc_vec = emb_model.scores_[True].mean(axis=0).max()\n",
    "print('The logistic regression MODEL  with Fastext embedding validation roc auc is {0:.3f}'.format(auc_vec))"
   ]
  },
  {
   "cell_type": "code",
   "execution_count": 273,
   "metadata": {
    "collapsed": true
   },
   "outputs": [],
   "source": [
    "test['body'] = test['body'].apply(lambda x: clean_bad_encoding(x))\n",
    "#We reapply the clean_contractions function \n",
    "test['body'] = test['body'].apply(lambda x: clean_contractions(x,contraction_mapping))\n",
    "tokenized_text_test = tokenize_func(test['body'])\n",
    "X_test = vectorize_text(tokenized_text_test)"
   ]
  },
  {
   "cell_type": "code",
   "execution_count": 274,
   "metadata": {},
   "outputs": [],
   "source": [
    "emb_model_auc = roc_auc_score(test['REMOVED'], \n",
    "                               emb_model.predict_proba(X_test)[:, 1])"
   ]
  },
  {
   "cell_type": "code",
   "execution_count": 275,
   "metadata": {},
   "outputs": [
    {
     "name": "stdout",
     "output_type": "stream",
     "text": [
      "The AUC on the test set is 0.735\n"
     ]
    }
   ],
   "source": [
    "print(\"The AUC on the test set is {0:.3f}\".format(emb_model_auc))"
   ]
  },
  {
   "cell_type": "code",
   "execution_count": 276,
   "metadata": {},
   "outputs": [],
   "source": [
    "precision4, recall4, _ = precision_recall_curve(test['REMOVED'], \n",
    "                                              emb_model.predict_proba(X_test)[:, 1])\n",
    "fpr4, tpr4, _ = roc_curve(test['REMOVED'], \n",
    "                        emb_model.predict_proba(X_test)[:, 1])"
   ]
  },
  {
   "cell_type": "code",
   "execution_count": 297,
   "metadata": {},
   "outputs": [
    {
     "data": {
      "image/png": "[encoded data removed]",
      "text/plain": [
       "<Figure size 864x360 with 2 Axes>"
      ]
     },
     "metadata": {
      "needs_background": "light"
     },
     "output_type": "display_data"
    }
   ],
   "source": [
    "fig, ax = plt.subplots(1, 3, figsize=(12, 5))\n",
    "\n",
    "ax[0].plot(recall, precision, label=\"baseline\")\n",
    "ax[0].plot(recall2, precision2, label=\"tfidf-char-model\")\n",
    "ax[0].plot(recall3, precision3, label=\"embedding-based model\")\n",
    "ax[0].set_xlabel(\"recall\")\n",
    "ax[0].set_ylabel(\"precision\")\n",
    "ax[0].set_title(\"PR curve\")\n",
    "ax[0].legend(loc=\"best\")\n",
    "\n",
    "ax[1].plot(fpr, tpr, label=\"baseline\")\n",
    "ax[1].plot(fpr2, tpr2, label=\"tfidf-char-model\")\n",
    "ax[0].plot(fpr3, tpr3, label=\"embedding-based model\")\n",
    "ax[1].set_xlabel(\"FPR\")\n",
    "ax[1].set_ylabel(\"TPR\")\n",
    "ax[1].set_title(\"ROC\")\n",
    "ax[1].legend(loc=\"best\")\n",
    "\n",
    "\n",
    "fig.tight_layout()"
   ]
  },
  {
   "cell_type": "code",
   "execution_count": null,
   "metadata": {
    "collapsed": true
   },
   "outputs": [],
   "source": []
  }
 ],
 "metadata": {
  "kernelspec": {
   "display_name": "Python 3",
   "language": "python",
   "name": "python3"
  },
  "language_info": {
   "codemirror_mode": {
    "name": "ipython",
    "version": 3
   },
   "file_extension": ".py",
   "mimetype": "text/x-python",
   "name": "python",
   "nbconvert_exporter": "python",
   "pygments_lexer": "ipython3",
   "version": "3.6.2"
  }
 },
 "nbformat": 4,
 "nbformat_minor": 2
}
