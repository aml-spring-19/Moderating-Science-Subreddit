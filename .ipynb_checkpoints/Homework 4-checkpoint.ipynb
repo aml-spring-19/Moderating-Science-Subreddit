{
 "cells": [
  {
   "cell_type": "markdown",
   "metadata": {},
   "source": [
    "# Homework 4"
   ]
  },
  {
   "cell_type": "code",
   "execution_count": 1,
   "metadata": {},
   "outputs": [],
   "source": [
    "import pandas as pd\n",
    "import numpy as np\n",
    "import warnings\n",
    "import matplotlib.pyplot as plt"
   ]
  },
  {
   "cell_type": "markdown",
   "metadata": {},
   "source": [
    "## Task 0 Loading the data"
   ]
  },
  {
   "cell_type": "markdown",
   "metadata": {},
   "source": [
    "We load the data, using an appropriate encoding - after error-and-trial:"
   ]
  },
  {
   "cell_type": "code",
   "execution_count": 2,
   "metadata": {},
   "outputs": [],
   "source": [
    "train = pd.read_csv(\"data/reddit_200k_train.csv\", encoding=\"ISO-8859-1\", usecols=[\"body\", \"REMOVED\"])\n",
    "test = pd.read_csv(\"data/reddit_200k_test.csv\", encoding=\"ISO-8859-1\", usecols=[\"body\", \"REMOVED\"])"
   ]
  },
  {
   "cell_type": "markdown",
   "metadata": {},
   "source": [
    "We peek at our train data:"
   ]
  },
  {
   "cell_type": "code",
   "execution_count": 3,
   "metadata": {},
   "outputs": [
    {
     "data": {
      "text/html": [
       "<div>\n",
       "<style scoped>\n",
       "    .dataframe tbody tr th:only-of-type {\n",
       "        vertical-align: middle;\n",
       "    }\n",
       "\n",
       "    .dataframe tbody tr th {\n",
       "        vertical-align: top;\n",
       "    }\n",
       "\n",
       "    .dataframe thead th {\n",
       "        text-align: right;\n",
       "    }\n",
       "</style>\n",
       "<table border=\"1\" class=\"dataframe\">\n",
       "  <thead>\n",
       "    <tr style=\"text-align: right;\">\n",
       "      <th></th>\n",
       "      <th>body</th>\n",
       "      <th>REMOVED</th>\n",
       "    </tr>\n",
       "  </thead>\n",
       "  <tbody>\n",
       "    <tr>\n",
       "      <th>0</th>\n",
       "      <td>I've always been taught it emerged from the ea...</td>\n",
       "      <td>False</td>\n",
       "    </tr>\n",
       "    <tr>\n",
       "      <th>1</th>\n",
       "      <td>As an ECE, my first feeling as \"HEY THAT'S NOT...</td>\n",
       "      <td>True</td>\n",
       "    </tr>\n",
       "    <tr>\n",
       "      <th>2</th>\n",
       "      <td>Monday: Drug companies stock dives on good new...</td>\n",
       "      <td>True</td>\n",
       "    </tr>\n",
       "    <tr>\n",
       "      <th>3</th>\n",
       "      <td>i learned that all hybrids are unfertile i won...</td>\n",
       "      <td>False</td>\n",
       "    </tr>\n",
       "    <tr>\n",
       "      <th>4</th>\n",
       "      <td>Well i was wanting to get wasted tonight.  Not...</td>\n",
       "      <td>False</td>\n",
       "    </tr>\n",
       "  </tbody>\n",
       "</table>\n",
       "</div>"
      ],
      "text/plain": [
       "                                                body  REMOVED\n",
       "0  I've always been taught it emerged from the ea...    False\n",
       "1  As an ECE, my first feeling as \"HEY THAT'S NOT...     True\n",
       "2  Monday: Drug companies stock dives on good new...     True\n",
       "3  i learned that all hybrids are unfertile i won...    False\n",
       "4  Well i was wanting to get wasted tonight.  Not...    False"
      ]
     },
     "execution_count": 3,
     "metadata": {},
     "output_type": "execute_result"
    }
   ],
   "source": [
    "train.head()"
   ]
  },
  {
   "cell_type": "markdown",
   "metadata": {},
   "source": [
    "How many instances do we have?"
   ]
  },
  {
   "cell_type": "code",
   "execution_count": 4,
   "metadata": {},
   "outputs": [
    {
     "data": {
      "text/plain": [
       "(167529, 2)"
      ]
     },
     "execution_count": 4,
     "metadata": {},
     "output_type": "execute_result"
    }
   ],
   "source": [
    "train.shape"
   ]
  },
  {
   "cell_type": "markdown",
   "metadata": {},
   "source": [
    "#### Evaluation metric:"
   ]
  },
  {
   "cell_type": "markdown",
   "metadata": {},
   "source": [
    "Let us see the proportion of each class in the training data:"
   ]
  },
  {
   "cell_type": "code",
   "execution_count": 5,
   "metadata": {},
   "outputs": [
    {
     "name": "stdout",
     "output_type": "stream",
     "text": [
      "There are 64738 of the `True` class.\n",
      "There are 102791 of the `False` class.\n"
     ]
    }
   ],
   "source": [
    "target_counts = np.bincount(train['REMOVED'])\n",
    "print(\"There are {:d} of the `True` class.\".format(target_counts[1]))\n",
    "print(\"There are {:d} of the `False` class.\".format(target_counts[0]))"
   ]
  },
  {
   "cell_type": "markdown",
   "metadata": {},
   "source": [
    "We have a bit of an imbalance problem here, so we'll choose to evaluate our algorithms using the **average precision score** as well as **AUC**, both of which should give insight on the performance of our models without being too misleading with regard to the class imbalance."
   ]
  },
  {
   "cell_type": "markdown",
   "metadata": {},
   "source": [
    "## Task 1 Bag of Words and simple Features"
   ]
  },
  {
   "cell_type": "markdown",
   "metadata": {},
   "source": [
    "### 1.1 Create a baseline model using a bag-of-words approach and a linear model."
   ]
  },
  {
   "cell_type": "code",
   "execution_count": 6,
   "metadata": {},
   "outputs": [],
   "source": [
    "from sklearn.feature_extraction.text import CountVectorizer"
   ]
  },
  {
   "cell_type": "markdown",
   "metadata": {},
   "source": [
    "We instantiate the BoW model with default parameters (the token pattern excluding one letter words, no limitation on features extracted, no minimum requirements on the number of documents a word appears in, and no filter on stop words):"
   ]
  },
  {
   "cell_type": "code",
   "execution_count": 7,
   "metadata": {},
   "outputs": [],
   "source": [
    "vect = CountVectorizer()"
   ]
  },
  {
   "cell_type": "markdown",
   "metadata": {},
   "source": [
    "We fit the model to fetch the vocabulary and use it to transform our data to a BoW:"
   ]
  },
  {
   "cell_type": "code",
   "execution_count": 8,
   "metadata": {},
   "outputs": [],
   "source": [
    "train_bag = vect.fit_transform(train['body'])"
   ]
  },
  {
   "cell_type": "markdown",
   "metadata": {},
   "source": [
    "How many different type of tokens were created?"
   ]
  },
  {
   "cell_type": "code",
   "execution_count": 9,
   "metadata": {},
   "outputs": [
    {
     "data": {
      "text/plain": [
       "113804"
      ]
     },
     "execution_count": 9,
     "metadata": {},
     "output_type": "execute_result"
    }
   ],
   "source": [
    "len(vect.vocabulary_)"
   ]
  },
  {
   "cell_type": "markdown",
   "metadata": {},
   "source": [
    "We look at a few samples of the vocabulary:"
   ]
  },
  {
   "cell_type": "code",
   "execution_count": 10,
   "metadata": {},
   "outputs": [
    {
     "data": {
      "text/plain": [
       "['00',\n",
       " '663',\n",
       " 'babysitter',\n",
       " 'compassing',\n",
       " 'eggsâ',\n",
       " 'greenaway',\n",
       " 'kajillion',\n",
       " 'mosanto',\n",
       " 'phylogenetic',\n",
       " 'russkies',\n",
       " 'surrogacy',\n",
       " 'warned']"
      ]
     },
     "execution_count": 10,
     "metadata": {},
     "output_type": "execute_result"
    }
   ],
   "source": [
    "vect.get_feature_names()[::10000]"
   ]
  },
  {
   "cell_type": "markdown",
   "metadata": {},
   "source": [
    "We now fit a - AUC-driven, grid-searched - linear model (logistic regression with L2 penalty) on top of this BoW representation:"
   ]
  },
  {
   "cell_type": "code",
   "execution_count": 11,
   "metadata": {},
   "outputs": [],
   "source": [
    "from sklearn.linear_model import LogisticRegressionCV"
   ]
  },
  {
   "cell_type": "code",
   "execution_count": 12,
   "metadata": {},
   "outputs": [],
   "source": [
    "baseline = LogisticRegressionCV(scoring='roc_auc', random_state=20190409)"
   ]
  },
  {
   "cell_type": "code",
   "execution_count": 13,
   "metadata": {},
   "outputs": [],
   "source": [
    "# to avoid convergence warnings popping up\n",
    "with warnings.catch_warnings():\n",
    "    warnings.simplefilter(\"ignore\")\n",
    "    baseline.fit(train_bag, train['REMOVED'])"
   ]
  },
  {
   "cell_type": "markdown",
   "metadata": {},
   "source": [
    "We transform the test set using the count vectorizer that was fit on the training data and we compute our two metrics on the test set:"
   ]
  },
  {
   "cell_type": "code",
   "execution_count": 14,
   "metadata": {},
   "outputs": [],
   "source": [
    "test_bag = vect.transform(test['body'])"
   ]
  },
  {
   "cell_type": "code",
   "execution_count": 15,
   "metadata": {},
   "outputs": [],
   "source": [
    "from sklearn.metrics import average_precision_score\n",
    "from sklearn.metrics import roc_auc_score"
   ]
  },
  {
   "cell_type": "code",
   "execution_count": 16,
   "metadata": {},
   "outputs": [],
   "source": [
    "baseline_ap = average_precision_score(test['REMOVED'], \n",
    "                                      baseline.predict_proba(test_bag)[:, 1])\n",
    "baseline_ra = roc_auc_score(test['REMOVED'], \n",
    "                            baseline.predict_proba(test_bag)[:, 1])"
   ]
  },
  {
   "cell_type": "code",
   "execution_count": 17,
   "metadata": {},
   "outputs": [
    {
     "name": "stdout",
     "output_type": "stream",
     "text": [
      "The logistic regression BASELINE roc auc is 0.768\n",
      "The logistic regression BASELINE average precision is 0.623\n"
     ]
    }
   ],
   "source": [
    "print('The logistic regression BASELINE roc auc is {0:.3f}'.format(baseline_ra))\n",
    "print('The logistic regression BASELINE average precision is {0:.3f}'.format(baseline_ap))"
   ]
  },
  {
   "cell_type": "markdown",
   "metadata": {},
   "source": [
    "We plot the **PR and ROC curves** on the **test set** to gain more insight on the model performance:"
   ]
  },
  {
   "cell_type": "code",
   "execution_count": 18,
   "metadata": {},
   "outputs": [],
   "source": [
    "from sklearn.metrics import precision_recall_curve\n",
    "from sklearn.metrics import roc_curve"
   ]
  },
  {
   "cell_type": "code",
   "execution_count": 19,
   "metadata": {},
   "outputs": [],
   "source": [
    "precision, recall, thresholds = precision_recall_curve(test['REMOVED'], \n",
    "                                                       baseline.predict_proba(test_bag)[:, 1])\n",
    "fpr, tpr, thresholds = roc_curve(test['REMOVED'], \n",
    "                                 baseline.predict_proba(test_bag)[:, 1])"
   ]
  },
  {
   "cell_type": "code",
   "execution_count": 20,
   "metadata": {},
   "outputs": [
    {
     "data": {
      "image/png": "[encoded data removed]",
      "text/plain": [
       "<Figure size 864x360 with 2 Axes>"
      ]
     },
     "metadata": {
      "needs_background": "light"
     },
     "output_type": "display_data"
    }
   ],
   "source": [
    "fig, ax = plt.subplots(1, 2, figsize=(12, 5))\n",
    "\n",
    "ax[0].plot(recall, precision, label=\"baseline\")\n",
    "ax[0].set_xlabel(\"recall\")\n",
    "ax[0].set_ylabel(\"precision\")\n",
    "ax[0].set_title(\"PR curve\")\n",
    "ax[0].legend(loc=\"best\")\n",
    "\n",
    "ax[1].plot(fpr, tpr, label=\"baseline\")\n",
    "ax[1].set_xlabel(\"FPR\")\n",
    "ax[1].set_ylabel(\"TPR\")\n",
    "ax[1].set_title(\"ROC\")\n",
    "ax[1].legend(loc=\"best\")\n",
    "\n",
    "fig.tight_layout()"
   ]
  },
  {
   "cell_type": "markdown",
   "metadata": {},
   "source": [
    "One shouldn't be too surprised at the PR curve, which looks chaotic for low recalls. A PR curve should be monotonous with respect to recall but not precesion necessarily. Having some misclassified points with probabilities far from their true classes can lead to such a curve as above."
   ]
  },
  {
   "cell_type": "markdown",
   "metadata": {},
   "source": [
    "The overall performance of the baseline looks pretty suboptimal and we will explore ways to improve it in the following."
   ]
  },
  {
   "cell_type": "markdown",
   "metadata": {},
   "source": [
    "### 1.2 Try using n-grams, characters, tf-idf rescaling and possibly other ways to tune the BoWmodel. Be aware that you might need to adjust the (regularization of the) linear model fordifferent feature sets."
   ]
  },
  {
   "cell_type": "markdown",
   "metadata": {},
   "source": [
    "We will try different strategies to modify the BoW representation - and hopefully improve it -, always reporting average precision score and AUC to compare to the baseline.\n",
    "\n",
    "We will also plot PR and ROC curves for the most promising model and compare those to the baseline."
   ]
  },
  {
   "cell_type": "markdown",
   "metadata": {},
   "source": [
    "#### Using n-grams"
   ]
  },
  {
   "cell_type": "markdown",
   "metadata": {},
   "source": [
    "We will try to fit a model with an n-gram representation with n ranging from 1 to 2 - choosing a minimum of documents in which a word appear to be 6 to limit the number of features - in an effort to avoid overfitting with an overbearing number of features compared to the number of training instances."
   ]
  },
  {
   "cell_type": "code",
   "execution_count": 40,
   "metadata": {},
   "outputs": [],
   "source": [
    "ngram_vect = CountVectorizer(ngram_range=(1, 2), min_df=6)"
   ]
  },
  {
   "cell_type": "code",
   "execution_count": 41,
   "metadata": {},
   "outputs": [],
   "source": [
    "train_ngram_bag = ngram_vect.fit_transform(train['body'])"
   ]
  },
  {
   "cell_type": "markdown",
   "metadata": {},
   "source": [
    "The vocabulary size is now:"
   ]
  },
  {
   "cell_type": "code",
   "execution_count": 42,
   "metadata": {},
   "outputs": [
    {
     "data": {
      "text/plain": [
       "147372"
      ]
     },
     "execution_count": 42,
     "metadata": {},
     "output_type": "execute_result"
    }
   ],
   "source": [
    "len(ngram_vect.vocabulary_)"
   ]
  },
  {
   "cell_type": "markdown",
   "metadata": {},
   "source": [
    "Examples of tokens:"
   ]
  },
  {
   "cell_type": "code",
   "execution_count": 43,
   "metadata": {},
   "outputs": [
    {
     "data": {
      "text/plain": [
       "['00',\n",
       " 'and pretend',\n",
       " 'bertrand',\n",
       " 'contacts',\n",
       " 'empirical data',\n",
       " 'get something',\n",
       " 'in being',\n",
       " 'lentils',\n",
       " 'myopia',\n",
       " 'org 2018',\n",
       " 'rats do',\n",
       " 'smoking cigs',\n",
       " 'that wasn',\n",
       " 'to bind',\n",
       " 'went down']"
      ]
     },
     "execution_count": 43,
     "metadata": {},
     "output_type": "execute_result"
    }
   ],
   "source": [
    "ngram_vect.get_feature_names()[::10000]"
   ]
  },
  {
   "cell_type": "markdown",
   "metadata": {},
   "source": [
    "Fitting the logistic regression:"
   ]
  },
  {
   "cell_type": "code",
   "execution_count": 44,
   "metadata": {},
   "outputs": [],
   "source": [
    "ngram_model = LogisticRegressionCV(scoring='roc_auc', random_state=20190409)"
   ]
  },
  {
   "cell_type": "code",
   "execution_count": 45,
   "metadata": {},
   "outputs": [],
   "source": [
    "# to avoid convergence warnings popping up\n",
    "with warnings.catch_warnings():\n",
    "    warnings.simplefilter(\"ignore\")\n",
    "    ngram_model.fit(train_ngram_bag, train['REMOVED'])"
   ]
  },
  {
   "cell_type": "markdown",
   "metadata": {},
   "source": [
    "Transforming the test set and evaluating:"
   ]
  },
  {
   "cell_type": "code",
   "execution_count": 48,
   "metadata": {},
   "outputs": [],
   "source": [
    "test_ngram_bag = ngram_vect.transform(test['body'])"
   ]
  },
  {
   "cell_type": "code",
   "execution_count": 49,
   "metadata": {},
   "outputs": [],
   "source": [
    "ngram_model_ap = average_precision_score(test['REMOVED'], \n",
    "                                         ngram_model.predict_proba(test_ngram_bag)[:, 1])\n",
    "ngram_model_ra = roc_auc_score(test['REMOVED'], \n",
    "                               ngram_model.predict_proba(test_ngram_bag)[:, 1])"
   ]
  },
  {
   "cell_type": "code",
   "execution_count": 50,
   "metadata": {},
   "outputs": [
    {
     "name": "stdout",
     "output_type": "stream",
     "text": [
      "The logistic regression N-GRAM MODEL roc auc is 0.773\n",
      "The logistic regression N-GRAM MODEL average precision is 0.628\n"
     ]
    }
   ],
   "source": [
    "print('The logistic regression N-GRAM MODEL roc auc is {0:.3f}'.format(ngram_model_ra))\n",
    "print('The logistic regression N-GRAM MODEL average precision is {0:.3f}'.format(ngram_model_ap))"
   ]
  },
  {
   "cell_type": "code",
   "execution_count": 51,
   "metadata": {},
   "outputs": [
    {
     "name": "stdout",
     "output_type": "stream",
     "text": [
      "The logistic regression BASELINE roc auc is 0.768\n",
      "The logistic regression BASELINE average precision is 0.623\n"
     ]
    }
   ],
   "source": [
    "print('The logistic regression BASELINE roc auc is {0:.3f}'.format(baseline_ra))\n",
    "print('The logistic regression BASELINE average precision is {0:.3f}'.format(baseline_ap))"
   ]
  },
  {
   "cell_type": "markdown",
   "metadata": {},
   "source": [
    "We have a slight improvement of both metrics, but we also added close to 30,000 features. The improvement does not seem to justify the large increase in number of features. We might need to combine n-grams with other tuning parameters to obtain a sensible gain in average precision and AUC."
   ]
  },
  {
   "cell_type": "markdown",
   "metadata": {},
   "source": [
    "#### Using characters"
   ]
  },
  {
   "cell_type": "markdown",
   "metadata": {},
   "source": [
    "We now fit a model with an n-gram character representation with n ranging from 2 to 4 - choosing a minimum of documents in which a word appear to be 6 to limit the number of features."
   ]
  },
  {
   "cell_type": "code",
   "execution_count": 64,
   "metadata": {},
   "outputs": [],
   "source": [
    "char_vect = CountVectorizer(ngram_range=(2, 4), min_df=6, analyzer='char')"
   ]
  },
  {
   "cell_type": "code",
   "execution_count": 65,
   "metadata": {},
   "outputs": [],
   "source": [
    "train_char_bag = char_vect.fit_transform(train['body'])"
   ]
  },
  {
   "cell_type": "markdown",
   "metadata": {},
   "source": [
    "The vocabulary size is now:"
   ]
  },
  {
   "cell_type": "code",
   "execution_count": 66,
   "metadata": {},
   "outputs": [
    {
     "data": {
      "text/plain": [
       "126910"
      ]
     },
     "execution_count": 66,
     "metadata": {},
     "output_type": "execute_result"
    }
   ],
   "source": [
    "len(char_vect.vocabulary_)"
   ]
  },
  {
   "cell_type": "markdown",
   "metadata": {},
   "source": [
    "Examples of tokens:"
   ]
  },
  {
   "cell_type": "code",
   "execution_count": 67,
   "metadata": {},
   "outputs": [
    {
     "data": {
      "text/plain": [
       "['\\t&',\n",
       " '\"wai',\n",
       " '/) a',\n",
       " '4/) ',\n",
       " 'a, t',\n",
       " 'cow ',\n",
       " 'ere&',\n",
       " 'i \"',\n",
       " 'llow',\n",
       " 'o ht',\n",
       " 'rb ',\n",
       " 't/47',\n",
       " 'wths']"
      ]
     },
     "execution_count": 67,
     "metadata": {},
     "output_type": "execute_result"
    }
   ],
   "source": [
    "char_vect.get_feature_names()[::10000]"
   ]
  },
  {
   "cell_type": "markdown",
   "metadata": {},
   "source": [
    "Fitting the logistic regression:"
   ]
  },
  {
   "cell_type": "code",
   "execution_count": 68,
   "metadata": {},
   "outputs": [],
   "source": [
    "char_model = LogisticRegressionCV(scoring='roc_auc', random_state=20190409)"
   ]
  },
  {
   "cell_type": "code",
   "execution_count": 69,
   "metadata": {},
   "outputs": [],
   "source": [
    "# to avoid convergence warnings popping up\n",
    "with warnings.catch_warnings():\n",
    "    warnings.simplefilter(\"ignore\")\n",
    "    char_model.fit(train_char_bag, train['REMOVED'])"
   ]
  },
  {
   "cell_type": "markdown",
   "metadata": {},
   "source": [
    "Transforming the test set and evaluating:"
   ]
  },
  {
   "cell_type": "code",
   "execution_count": 70,
   "metadata": {},
   "outputs": [],
   "source": [
    "test_char_bag = char_vect.transform(test['body'])"
   ]
  },
  {
   "cell_type": "code",
   "execution_count": 71,
   "metadata": {},
   "outputs": [],
   "source": [
    "char_model_ap = average_precision_score(test['REMOVED'], \n",
    "                                        char_model.predict_proba(test_char_bag)[:, 1])\n",
    "char_model_ra = roc_auc_score(test['REMOVED'], \n",
    "                              char_model.predict_proba(test_char_bag)[:, 1])"
   ]
  },
  {
   "cell_type": "code",
   "execution_count": 72,
   "metadata": {},
   "outputs": [
    {
     "name": "stdout",
     "output_type": "stream",
     "text": [
      "The logistic regression CHARACTER MODEL roc auc is 0.791\n",
      "The logistic regression CHARACTER MODEL average precision is 0.678\n"
     ]
    }
   ],
   "source": [
    "print('The logistic regression CHARACTER MODEL roc auc is {0:.3f}'.format(char_model_ra))\n",
    "print('The logistic regression CHARACTER MODEL average precision is {0:.3f}'.format(char_model_ap))"
   ]
  },
  {
   "cell_type": "code",
   "execution_count": 73,
   "metadata": {},
   "outputs": [
    {
     "name": "stdout",
     "output_type": "stream",
     "text": [
      "The logistic regression BASELINE roc auc is 0.768\n",
      "The logistic regression BASELINE average precision is 0.623\n"
     ]
    }
   ],
   "source": [
    "print('The logistic regression BASELINE roc auc is {0:.3f}'.format(baseline_ra))\n",
    "print('The logistic regression BASELINE average precision is {0:.3f}'.format(baseline_ap))"
   ]
  },
  {
   "cell_type": "markdown",
   "metadata": {},
   "source": [
    "Both metrics have improved with an addition of 10,000 features (~10% of baseline features), using character n-grams seems promising. We will try to incorporate it and combine it with other tuning parameters to find a better model."
   ]
  },
  {
   "cell_type": "markdown",
   "metadata": {},
   "source": [
    "#### Using tf-idf rescaling"
   ]
  },
  {
   "cell_type": "markdown",
   "metadata": {},
   "source": [
    "We know use tf-idf weighting on the word counts with a base word count vectorizer (and l2 normalization on each row)."
   ]
  },
  {
   "cell_type": "code",
   "execution_count": 74,
   "metadata": {},
   "outputs": [],
   "source": [
    "from sklearn.feature_extraction.text import TfidfVectorizer"
   ]
  },
  {
   "cell_type": "code",
   "execution_count": 75,
   "metadata": {},
   "outputs": [],
   "source": [
    "tfidf_vect = TfidfVectorizer()"
   ]
  },
  {
   "cell_type": "code",
   "execution_count": 76,
   "metadata": {},
   "outputs": [],
   "source": [
    "train_tfidf_bag = tfidf_vect.fit_transform(train['body'])"
   ]
  },
  {
   "cell_type": "markdown",
   "metadata": {},
   "source": [
    "The vocabulary size is now:"
   ]
  },
  {
   "cell_type": "code",
   "execution_count": 77,
   "metadata": {},
   "outputs": [
    {
     "data": {
      "text/plain": [
       "113804"
      ]
     },
     "execution_count": 77,
     "metadata": {},
     "output_type": "execute_result"
    }
   ],
   "source": [
    "len(tfidf_vect.vocabulary_)"
   ]
  },
  {
   "cell_type": "markdown",
   "metadata": {},
   "source": [
    "As expected, it is the same as the baseline vocabulary size - only the count values are now weighted using the tf-idf scheme."
   ]
  },
  {
   "cell_type": "markdown",
   "metadata": {},
   "source": [
    "Examples of tokens:"
   ]
  },
  {
   "cell_type": "code",
   "execution_count": 78,
   "metadata": {},
   "outputs": [
    {
     "data": {
      "text/plain": [
       "['00',\n",
       " '663',\n",
       " 'babysitter',\n",
       " 'compassing',\n",
       " 'eggsâ',\n",
       " 'greenaway',\n",
       " 'kajillion',\n",
       " 'mosanto',\n",
       " 'phylogenetic',\n",
       " 'russkies',\n",
       " 'surrogacy',\n",
       " 'warned']"
      ]
     },
     "execution_count": 78,
     "metadata": {},
     "output_type": "execute_result"
    }
   ],
   "source": [
    "tfidf_vect.get_feature_names()[::10000]"
   ]
  },
  {
   "cell_type": "markdown",
   "metadata": {},
   "source": [
    "Fitting the logistic regression:"
   ]
  },
  {
   "cell_type": "code",
   "execution_count": 79,
   "metadata": {},
   "outputs": [],
   "source": [
    "tfidf_model = LogisticRegressionCV(scoring='roc_auc', random_state=20190409)"
   ]
  },
  {
   "cell_type": "code",
   "execution_count": 80,
   "metadata": {},
   "outputs": [],
   "source": [
    "# to avoid convergence warnings popping up\n",
    "with warnings.catch_warnings():\n",
    "    warnings.simplefilter(\"ignore\")\n",
    "    tfidf_model.fit(train_tfidf_bag, train['REMOVED'])"
   ]
  },
  {
   "cell_type": "markdown",
   "metadata": {},
   "source": [
    "Transforming the test set and evaluating:"
   ]
  },
  {
   "cell_type": "code",
   "execution_count": 81,
   "metadata": {},
   "outputs": [],
   "source": [
    "test_tfidf_bag = tfidf_vect.transform(test['body'])"
   ]
  },
  {
   "cell_type": "code",
   "execution_count": 82,
   "metadata": {},
   "outputs": [],
   "source": [
    "tfidf_model_ap = average_precision_score(test['REMOVED'], \n",
    "                                         tfidf_model.predict_proba(test_tfidf_bag)[:, 1])\n",
    "tfidf_model_ra = roc_auc_score(test['REMOVED'], \n",
    "                               tfidf_model.predict_proba(test_tfidf_bag)[:, 1])"
   ]
  },
  {
   "cell_type": "code",
   "execution_count": 83,
   "metadata": {},
   "outputs": [
    {
     "name": "stdout",
     "output_type": "stream",
     "text": [
      "The logistic regression TF-IDF MODEL roc auc is 0.777\n",
      "The logistic regression TF-IDF MODEL average precision is 0.646\n"
     ]
    }
   ],
   "source": [
    "print('The logistic regression TF-IDF MODEL roc auc is {0:.3f}'.format(tfidf_model_ra))\n",
    "print('The logistic regression TF-IDF MODEL average precision is {0:.3f}'.format(tfidf_model_ap))"
   ]
  },
  {
   "cell_type": "code",
   "execution_count": 84,
   "metadata": {},
   "outputs": [
    {
     "name": "stdout",
     "output_type": "stream",
     "text": [
      "The logistic regression BASELINE roc auc is 0.768\n",
      "The logistic regression BASELINE average precision is 0.623\n"
     ]
    }
   ],
   "source": [
    "print('The logistic regression BASELINE roc auc is {0:.3f}'.format(baseline_ra))\n",
    "print('The logistic regression BASELINE average precision is {0:.3f}'.format(baseline_ap))"
   ]
  },
  {
   "cell_type": "markdown",
   "metadata": {},
   "source": [
    "The results are better than the baseline, less significantly so than just using character n-grams without tf-idf. One could hope that combining both will significantly improve our metrics."
   ]
  },
  {
   "cell_type": "markdown",
   "metadata": {},
   "source": [
    "#### Throwing away stop words"
   ]
  },
  {
   "cell_type": "code",
   "execution_count": 85,
   "metadata": {},
   "outputs": [],
   "source": [
    "stop_vect = CountVectorizer(stop_words=\"english\")"
   ]
  },
  {
   "cell_type": "code",
   "execution_count": 86,
   "metadata": {},
   "outputs": [],
   "source": [
    "train_stop_bag = stop_vect.fit_transform(train['body'])"
   ]
  },
  {
   "cell_type": "code",
   "execution_count": 87,
   "metadata": {},
   "outputs": [
    {
     "data": {
      "text/plain": [
       "113494"
      ]
     },
     "execution_count": 87,
     "metadata": {},
     "output_type": "execute_result"
    }
   ],
   "source": [
    "len(stop_vect.vocabulary_)"
   ]
  },
  {
   "cell_type": "code",
   "execution_count": 88,
   "metadata": {},
   "outputs": [
    {
     "data": {
      "text/plain": [
       "['00',\n",
       " '663',\n",
       " 'backdoors',\n",
       " 'complacency',\n",
       " 'ehp2773',\n",
       " 'griffiths',\n",
       " 'karelin',\n",
       " 'mounties',\n",
       " 'piercings',\n",
       " 's00426',\n",
       " 'sweatiest',\n",
       " 'weakening']"
      ]
     },
     "execution_count": 88,
     "metadata": {},
     "output_type": "execute_result"
    }
   ],
   "source": [
    "stop_vect.get_feature_names()[::10000]"
   ]
  },
  {
   "cell_type": "code",
   "execution_count": 89,
   "metadata": {},
   "outputs": [],
   "source": [
    "stop_model = LogisticRegressionCV(scoring='roc_auc', random_state=20190409)"
   ]
  },
  {
   "cell_type": "code",
   "execution_count": 90,
   "metadata": {},
   "outputs": [],
   "source": [
    "# to avoid convergence warnings popping up\n",
    "with warnings.catch_warnings():\n",
    "    warnings.simplefilter(\"ignore\")\n",
    "    stop_model.fit(train_stop_bag, train['REMOVED'])"
   ]
  },
  {
   "cell_type": "code",
   "execution_count": 91,
   "metadata": {},
   "outputs": [],
   "source": [
    "test_stop_bag = stop_vect.transform(test['body'])"
   ]
  },
  {
   "cell_type": "code",
   "execution_count": 92,
   "metadata": {},
   "outputs": [],
   "source": [
    "stop_model_ap = average_precision_score(test['REMOVED'], \n",
    "                                        stop_model.predict_proba(test_stop_bag)[:, 1])\n",
    "stop_model_ra = roc_auc_score(test['REMOVED'], \n",
    "                              stop_model.predict_proba(test_stop_bag)[:, 1])"
   ]
  },
  {
   "cell_type": "code",
   "execution_count": 93,
   "metadata": {},
   "outputs": [
    {
     "name": "stdout",
     "output_type": "stream",
     "text": [
      "The logistic regression STOP-WORDS MODEL roc auc is 0.761\n",
      "The logistic regression STOP-WORDS MODEL average precision is 0.615\n"
     ]
    }
   ],
   "source": [
    "print('The logistic regression STOP-WORDS MODEL roc auc is {0:.3f}'.format(stop_model_ra))\n",
    "print('The logistic regression STOP-WORDS MODEL average precision is {0:.3f}'.format(stop_model_ap))"
   ]
  },
  {
   "cell_type": "code",
   "execution_count": 94,
   "metadata": {},
   "outputs": [
    {
     "name": "stdout",
     "output_type": "stream",
     "text": [
      "The logistic regression BASELINE roc auc is 0.768\n",
      "The logistic regression BASELINE average precision is 0.623\n"
     ]
    }
   ],
   "source": [
    "print('The logistic regression BASELINE roc auc is {0:.3f}'.format(baseline_ra))\n",
    "print('The logistic regression BASELINE average precision is {0:.3f}'.format(baseline_ap))"
   ]
  },
  {
   "cell_type": "markdown",
   "metadata": {},
   "source": [
    "Removing stop words actually slightly worsens the performance of the baseline!"
   ]
  },
  {
   "cell_type": "markdown",
   "metadata": {},
   "source": [
    "#### Combining different tuning parameters"
   ]
  },
  {
   "cell_type": "markdown",
   "metadata": {},
   "source": [
    "We will now grid search a better model, using character n-grams, looking for the best combination of `ngram_range` and `min_df` and also whether to use tf-idf weighing or not (through parameters `use_idf` and `binary` of the `TfidfVectorizer` object - which will also try models in between a pure count and tf-idf as we understand it)."
   ]
  },
  {
   "cell_type": "code",
   "execution_count": null,
   "metadata": {},
   "outputs": [],
   "source": [
    "param_grid = {'logisticregression__alpha': np.logspace(-3, 3, 7),\n",
    "              'tfidfvectorizer__ngram_range': [(2, 2), (2, 3), (2, 4), (2, 5)],\n",
    "              'tfidfvectorizer__min_df': range(4, 10, 2),\n",
    "              'tfidfvectorizer__use_idf': [True, False],\n",
    "              'tfidfvectorizer__binary': [True, False]}"
   ]
  },
  {
   "cell_type": "code",
   "execution_count": null,
   "metadata": {},
   "outputs": [],
   "source": [
    "from sklearn.linear_model import LogisticRegression\n",
    "from sklearn.pipeline import make_pipeline"
   ]
  },
  {
   "cell_type": "code",
   "execution_count": null,
   "metadata": {},
   "outputs": [],
   "source": [
    "pipe = make_pipeline(TfidfVectorizer(analyzer='char'), \n",
    "                     LogisticRegression(random_state=20190409))"
   ]
  },
  {
   "cell_type": "code",
   "execution_count": null,
   "metadata": {},
   "outputs": [],
   "source": [
    "from sklearn.model_selection import GridSearchCV"
   ]
  },
  {
   "cell_type": "code",
   "execution_count": null,
   "metadata": {},
   "outputs": [],
   "source": [
    "with warnings.catch_warnings():\n",
    "    warnings.simplefilter(\"ignore\")\n",
    "    grid_res = GridSearchCV(pipe, param_grid, \n",
    "                            cv=5, scoring='roc_auc',\n",
    "                            return_train_score=True).fit(train['body'], \n",
    "                                                         train['REMOVED'])"
   ]
  },
  {
   "cell_type": "code",
   "execution_count": null,
   "metadata": {},
   "outputs": [],
   "source": [
    "score = grid_res.cv_results_['mean_test_score']"
   ]
  },
  {
   "cell_type": "code",
   "execution_count": null,
   "metadata": {},
   "outputs": [],
   "source": [
    "print(grid_res.best_params_)"
   ]
  },
  {
   "cell_type": "code",
   "execution_count": null,
   "metadata": {},
   "outputs": [],
   "source": [
    "better_model_ap = average_precision_score(test['REMOVED'], \n",
    "                                          pipe.predict_proba(test['body'])[:, 1])\n",
    "better_model_ra = roc_auc_score(test['REMOVED'], \n",
    "                                pipe.predict_proba(test['body'])[:, 1])"
   ]
  },
  {
   "cell_type": "code",
   "execution_count": null,
   "metadata": {},
   "outputs": [],
   "source": [
    "print('The logistic regression COMBINED MODEL roc auc is {0:.3f}'.format(better_model_ra))\n",
    "print('The logistic regression COMBINED MODEL average precision is {0:.3f}'.format(better_model_ap))"
   ]
  },
  {
   "cell_type": "code",
   "execution_count": null,
   "metadata": {},
   "outputs": [],
   "source": [
    "print('The logistic regression BASELINE roc auc is {0:.3f}'.format(baseline_ra))\n",
    "print('The logistic regression BASELINE average precision is {0:.3f}'.format(baseline_ap))"
   ]
  },
  {
   "cell_type": "markdown",
   "metadata": {},
   "source": [
    "### 1.3 Explore other features you can derive from the text, such as html, length, punctuation,capitalization or other features you deem important from exploring the dataset"
   ]
  },
  {
   "cell_type": "markdown",
   "metadata": {},
   "source": [
    "Ideas: "
   ]
  },
  {
   "cell_type": "markdown",
   "metadata": {},
   "source": [
    "from https://www.kaggle.com/alber8295/kisa-md-trabajo-final-an-lisis-de-datos\n",
    "clean words for the ngram part (keep only letters and spaces)"
   ]
  },
  {
   "cell_type": "markdown",
   "metadata": {},
   "source": [
    "from https://www.kaggle.com/areeves87/xgb-lgbm-glmnet-on-text2vec-tf-idf-auc-0-821\n",
    "stemming before making BoW"
   ]
  },
  {
   "cell_type": "markdown",
   "metadata": {},
   "source": [
    "from https://www.kaggle.com/tunguz/logistic-regression-with-words-and-char-n-grams/code\n",
    "limit the number of features"
   ]
  },
  {
   "cell_type": "markdown",
   "metadata": {},
   "source": [
    "from https://www.kaggle.com/jhoward/nb-svm-strong-linear-baseline\n",
    "length of the comment in words,\n",
    "length of the comment in characters"
   ]
  },
  {
   "cell_type": "markdown",
   "metadata": {},
   "source": [
    "from https://www.kaggle.com/areeves87/nbsvm-w-char-grams-auc-824\n",
    "combine both word and character mappings (with hstack)"
   ]
  },
  {
   "cell_type": "markdown",
   "metadata": {},
   "source": [
    "## Task 2 Word Vectors"
   ]
  },
  {
   "cell_type": "markdown",
   "metadata": {},
   "source": [
    "### Use a pretrained word-embedding (word2vec, glove or fasttext) instead of the bag-of-wordsmodel. Does this improve classification?"
   ]
  },
  {
   "cell_type": "markdown",
   "metadata": {},
   "source": [
    "(pour nous) From kernel https://www.kaggle.com/mitchelldehaven/cnn-with-fasttext-auc-0-800: use fasttext rather than word2vec (significantly more words in the testing and training corpora have embeddings in fasttext than in word2vec)."
   ]
  },
  {
   "cell_type": "code",
   "execution_count": null,
   "metadata": {},
   "outputs": [],
   "source": []
  }
 ],
 "metadata": {
  "kernelspec": {
   "display_name": "Python 3",
   "language": "python",
   "name": "python3"
  },
  "language_info": {
   "codemirror_mode": {
    "name": "ipython",
    "version": 3
   },
   "file_extension": ".py",
   "mimetype": "text/x-python",
   "name": "python",
   "nbconvert_exporter": "python",
   "pygments_lexer": "ipython3",
   "version": "3.6.8"
  }
 },
 "nbformat": 4,
 "nbformat_minor": 2
}
